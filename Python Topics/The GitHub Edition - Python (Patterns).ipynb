{
 "cells": [
  {
   "cell_type": "markdown",
   "id": "aaa30a6b",
   "metadata": {},
   "source": [
    "# The GitHub Edition - Python (Patterns)"
   ]
  },
  {
   "cell_type": "code",
   "execution_count": 1,
   "id": "ca859cc1",
   "metadata": {},
   "outputs": [
    {
     "name": "stdout",
     "output_type": "stream",
     "text": [
      "        * \r\n",
      "       * * \r\n",
      "      * * * \r\n",
      "     * * * * \r\n",
      "    * * * * * \r\n"
     ]
    }
   ],
   "source": [
    "def pattern(n):\n",
    "      k = 2 * n - 2\n",
    "      for i in range(0,n):\n",
    "           for j in range(0,k):\n",
    "               print(end=\" \")\n",
    "           k = k - 1\n",
    "           for j in range(0, i+1):\n",
    "                print(\"*\", end=\" \")\n",
    "           print(\"\\r\")\n",
    " \n",
    "pattern(5)"
   ]
  },
  {
   "cell_type": "code",
   "execution_count": 2,
   "id": "80e0bf87",
   "metadata": {},
   "outputs": [
    {
     "name": "stdout",
     "output_type": "stream",
     "text": [
      "        1 \r\n",
      "       1 2 \r\n",
      "      1 2 3 \r\n",
      "     1 2 3 4 \r\n",
      "    1 2 3 4 5 \r\n"
     ]
    }
   ],
   "source": [
    "def pattern(n):\n",
    "    k = 2 * n - 2\n",
    "    for i in range(0,n):\n",
    "        for j in range(0,k):\n",
    "            print(end=\" \")\n",
    "        k = k - 1\n",
    "        for j in range(0, i+1):\n",
    "            print(j+1, end=\" \")\n",
    "        print(\"\\r\")\n",
    "pattern(5)"
   ]
  },
  {
   "cell_type": "code",
   "execution_count": 3,
   "id": "8ca999f6",
   "metadata": {},
   "outputs": [
    {
     "name": "stdout",
     "output_type": "stream",
     "text": [
      "1 \n",
      "1 2 \n",
      "1 2 3 \n",
      "1 2 3 4 \n",
      "1 2 3 4 5 \n"
     ]
    }
   ],
   "source": [
    "for i in range(1,6):\n",
    "    for j in range(1,i+1):\n",
    "        print(j,end=\" \")\n",
    "    print()"
   ]
  },
  {
   "cell_type": "code",
   "execution_count": 4,
   "id": "82f0fbf9",
   "metadata": {},
   "outputs": [
    {
     "name": "stdout",
     "output_type": "stream",
     "text": [
      "* \n",
      "* * \n",
      "* * * \n",
      "* * * * \n",
      "* * * * * \n"
     ]
    }
   ],
   "source": [
    "for i in range(1,6):\n",
    "    for j in range(1,i+1):\n",
    "        print(\"*\",end=\" \")\n",
    "    print()"
   ]
  },
  {
   "cell_type": "code",
   "execution_count": 5,
   "id": "1791dd63",
   "metadata": {},
   "outputs": [
    {
     "name": "stdout",
     "output_type": "stream",
     "text": [
      "X X X X X \n",
      "X X X X \n",
      "X X X \n",
      "X X \n",
      "X \n"
     ]
    }
   ],
   "source": [
    "for i in range(6,1,-1):\n",
    "    for j in range(i,1,-1):\n",
    "        print(\"X\",end=\" \")\n",
    "    print()"
   ]
  },
  {
   "cell_type": "code",
   "execution_count": 6,
   "id": "2acfd748",
   "metadata": {},
   "outputs": [
    {
     "name": "stdout",
     "output_type": "stream",
     "text": [
      "5 4 3 2 1 \n",
      "4 3 2 1 \n",
      "3 2 1 \n",
      "2 1 \n",
      "1 \n",
      "\n"
     ]
    }
   ],
   "source": [
    "for i in range(6,0,-1):\n",
    "    for j in range(i-1,0,-1):\n",
    "        print(j,end=\" \")\n",
    "    print()"
   ]
  },
  {
   "cell_type": "code",
   "execution_count": 7,
   "id": "feee37e2",
   "metadata": {},
   "outputs": [
    {
     "name": "stdout",
     "output_type": "stream",
     "text": [
      "    # \n",
      "   # # \n",
      "  # # # \n",
      " # # # # \n",
      "# # # # # \n"
     ]
    }
   ],
   "source": [
    "k=4\n",
    "for i in range(1,6):\n",
    "    for j in range(1,k+1):\n",
    "        print(end=\" \")\n",
    "    k=k-1\n",
    "    for l in range(1,i+1):\n",
    "        print(\"#\",end=\" \")\n",
    "    print()"
   ]
  },
  {
   "cell_type": "code",
   "execution_count": 8,
   "id": "a00df0ad",
   "metadata": {},
   "outputs": [
    {
     "name": "stdout",
     "output_type": "stream",
     "text": [
      "5\n",
      "    ! \n",
      "   ! ! \n",
      "  ! ! ! \n",
      " ! ! ! ! \n",
      "! ! ! ! ! \n"
     ]
    }
   ],
   "source": [
    "n=int(input())\n",
    "k=n-1\n",
    "for i in range(1,n+1):\n",
    "    for j in range(1,k+1):\n",
    "        print(end=\" \")\n",
    "    k=k-1\n",
    "    for l in range(1,i+1):\n",
    "        print(\"!\",end=\" \")\n",
    "    print()"
   ]
  },
  {
   "cell_type": "code",
   "execution_count": 9,
   "id": "0389b62a",
   "metadata": {},
   "outputs": [
    {
     "name": "stdout",
     "output_type": "stream",
     "text": [
      "5\n",
      "    1 \n",
      "   1 2 \n",
      "  1 2 3 \n",
      " 1 2 3 4 \n",
      "1 2 3 4 5 \n"
     ]
    }
   ],
   "source": [
    "n=int(input())\n",
    "k=n-1\n",
    "for i in range(1,n+1):\n",
    "    for j in range(1,k+1):\n",
    "        print(end=\" \")\n",
    "    k=k-1\n",
    "    for l in range(1,i+1):\n",
    "        print(l,end=\" \")\n",
    "    print()"
   ]
  },
  {
   "cell_type": "code",
   "execution_count": 10,
   "id": "7b0649ae",
   "metadata": {},
   "outputs": [
    {
     "name": "stdout",
     "output_type": "stream",
     "text": [
      "5\n",
      "    1 \n",
      "   2 3 \n",
      "  4 5 6 \n",
      " 7 8 9 10 \n",
      "11 12 13 14 15 \n"
     ]
    }
   ],
   "source": [
    "n=int(input())\n",
    "k=n-1\n",
    "num=1\n",
    "for i in range(1,n+1):\n",
    "    for j in range(1,k+1):\n",
    "        print(end=\" \")\n",
    "    k=k-1\n",
    "    for l in range(1,i+1):\n",
    "        print(num,end=\" \")\n",
    "        num+=1\n",
    "    print()"
   ]
  },
  {
   "cell_type": "code",
   "execution_count": 11,
   "id": "b1e888e8",
   "metadata": {},
   "outputs": [
    {
     "name": "stdout",
     "output_type": "stream",
     "text": [
      "1 \n",
      "2 3 \n",
      "4 5 6 \n",
      "7 8 9 10 \n",
      "11 12 13 14 15 \n"
     ]
    }
   ],
   "source": [
    "n=1\n",
    "for i in range(1,6):\n",
    "    for j in range(1,i+1):\n",
    "        print(n,end=\" \")\n",
    "        n+=1\n",
    "    print()"
   ]
  },
  {
   "cell_type": "code",
   "execution_count": 12,
   "id": "0c9e7067",
   "metadata": {},
   "outputs": [
    {
     "name": "stdout",
     "output_type": "stream",
     "text": [
      "15 14 13 12 11 \n",
      "10 9 8 7 \n",
      "6 5 4 \n",
      "3 2 \n",
      "1 \n"
     ]
    }
   ],
   "source": [
    "n=15\n",
    "for i in range(6,1,-1):\n",
    "    for j in range(i,1,-1):\n",
    "        print(n,end=\" \")\n",
    "        n-=1\n",
    "    print()"
   ]
  },
  {
   "cell_type": "code",
   "execution_count": 13,
   "id": "db84932a",
   "metadata": {},
   "outputs": [
    {
     "name": "stdout",
     "output_type": "stream",
     "text": [
      "5\n",
      "        1 \n",
      "      1 2 \n",
      "    1 2 3 \n",
      "  1 2 3 4 \n",
      "1 2 3 4 5 \n"
     ]
    }
   ],
   "source": [
    "n=int(input())\n",
    "k=n*2-2\n",
    "for i in range(1,n+1):\n",
    "    for j in range(1,k+1):\n",
    "        print(end=\" \")\n",
    "    k=k-2\n",
    "    for l in range(1,i+1):\n",
    "        print(l,end=\" \")\n",
    "    print()"
   ]
  },
  {
   "cell_type": "code",
   "execution_count": 14,
   "id": "75a8952e",
   "metadata": {},
   "outputs": [
    {
     "name": "stdout",
     "output_type": "stream",
     "text": [
      "10\n",
      "                  $ \n",
      "                $ $ \n",
      "              $ $ $ \n",
      "            $ $ $ $ \n",
      "          $ $ $ $ $ \n",
      "        $ $ $ $ $ $ \n",
      "      $ $ $ $ $ $ $ \n",
      "    $ $ $ $ $ $ $ $ \n",
      "  $ $ $ $ $ $ $ $ $ \n",
      "$ $ $ $ $ $ $ $ $ $ \n"
     ]
    }
   ],
   "source": [
    "n=int(input())\n",
    "k=n*2-2\n",
    "for i in range(1,n+1):\n",
    "    for j in range(1,k+1):\n",
    "        print(end=\" \")\n",
    "    k=k-2\n",
    "    for l in range(1,i+1):\n",
    "        print(\"$\",end=\" \")\n",
    "    print()"
   ]
  },
  {
   "cell_type": "code",
   "execution_count": 15,
   "id": "913b2907",
   "metadata": {},
   "outputs": [
    {
     "name": "stdout",
     "output_type": "stream",
     "text": [
      "5\n",
      "        4 \n",
      "      8 12 \n",
      "    16 20 24 \n",
      "  28 32 36 40 \n",
      "44 48 52 56 60 \n"
     ]
    }
   ],
   "source": [
    "n=int(input())\n",
    "k=n*2-2\n",
    "num=4\n",
    "for i in range(1,n+1):\n",
    "    for j in range(1,k+1):\n",
    "        print(end=\" \")\n",
    "    k=k-2\n",
    "    for l in range(1,i+1):\n",
    "        print(num,end=\" \")\n",
    "        num+=4\n",
    "    print()"
   ]
  },
  {
   "cell_type": "code",
   "execution_count": 16,
   "id": "70c54cdc",
   "metadata": {},
   "outputs": [
    {
     "name": "stdout",
     "output_type": "stream",
     "text": [
      "5\n",
      "        1 \n",
      "      2 3 \n",
      "    4 5 6 \n",
      "  7 8 9 10 \n",
      "11 12 13 14 15 \n"
     ]
    }
   ],
   "source": [
    "n=int(input())\n",
    "k=n*2-2\n",
    "num=1\n",
    "for i in range(1,n+1):\n",
    "    for j in range(1,k+1):\n",
    "        print(end=\" \")\n",
    "    k=k-2\n",
    "    for l in range(1,i+1):\n",
    "        print(num,end=\" \")\n",
    "        num+=1\n",
    "    print()"
   ]
  },
  {
   "cell_type": "code",
   "execution_count": 17,
   "id": "41901197",
   "metadata": {},
   "outputs": [
    {
     "name": "stdout",
     "output_type": "stream",
     "text": [
      " # # # # # \n",
      "  # # # # \n",
      "   # # # \n",
      "    # # \n",
      "     # \n"
     ]
    }
   ],
   "source": [
    "k=1\n",
    "for i in range(5,0,-1):\n",
    "    for j in range(k,0,-1):\n",
    "        print(end=\" \")\n",
    "    k=k+1\n",
    "    for l in range(1,i+1):\n",
    "        print(\"#\",end=\" \")\n",
    "    print()"
   ]
  },
  {
   "cell_type": "code",
   "execution_count": 18,
   "id": "10c57129",
   "metadata": {},
   "outputs": [
    {
     "name": "stdout",
     "output_type": "stream",
     "text": [
      " 5 5 5 5 5 \n",
      "  4 4 4 4 \n",
      "   3 3 3 \n",
      "    2 2 \n",
      "     1 \n"
     ]
    }
   ],
   "source": [
    "k=1\n",
    "for i in range(5,0,-1):\n",
    "    for j in range(k,0,-1):\n",
    "        print(end=\" \")\n",
    "    k=k+1\n",
    "    for l in range(1,i+1):\n",
    "        print(i,end=\" \")\n",
    "    print()"
   ]
  },
  {
   "cell_type": "code",
   "execution_count": 19,
   "id": "c84f32de",
   "metadata": {},
   "outputs": [
    {
     "name": "stdout",
     "output_type": "stream",
     "text": [
      " 5 4 3 2 1 \n",
      "  4 3 2 1 \n",
      "   3 2 1 \n",
      "    2 1 \n",
      "     1 \n"
     ]
    }
   ],
   "source": [
    "k=1\n",
    "for i in range(5,0,-1):\n",
    "    for j in range(k,0,-1):\n",
    "        print(end=\" \")\n",
    "    k=k+1\n",
    "    for l in range(i,0,-1):\n",
    "        print(l,end=\" \")\n",
    "    print()"
   ]
  },
  {
   "cell_type": "code",
   "execution_count": 20,
   "id": "d77a376b",
   "metadata": {},
   "outputs": [
    {
     "name": "stdout",
     "output_type": "stream",
     "text": [
      "5\n",
      "1 \n",
      "1 2 \n",
      "1 2 3 \n",
      "1 2 3 4 \n",
      "1 2 3 4 5 \n",
      "------------------------------------------\n",
      "    * \n",
      "   * * \n",
      "  * * * \n",
      " * * * * \n",
      "* * * * * \n",
      "------------------------------------------\n",
      "        ! \n",
      "      ! ! \n",
      "    ! ! ! \n",
      "  ! ! ! ! \n",
      "! ! ! ! ! \n",
      "------------------------------------------\n"
     ]
    }
   ],
   "source": [
    "a=int(input())\n",
    "for i in range(1,a+1):\n",
    "    for j in range(1,i+1):\n",
    "        print(j,end=\" \")\n",
    "    print()\n",
    "print(\"------------------------------------------\")\n",
    "k=a-1\n",
    "for i in range(1,a+1):\n",
    "    for j in range(1,k+1):\n",
    "        print(end=\" \")\n",
    "    k=k-1\n",
    "    for l in range(1,i+1):\n",
    "        print(\"*\",end=\" \")\n",
    "    print()\n",
    "print(\"------------------------------------------\")\n",
    "k=a*2-2\n",
    "for i in range(1,a+1):\n",
    "    for j in range(1,k+1):\n",
    "        print(end=\" \")\n",
    "    k=k-2\n",
    "    for l in range(1,i+1):\n",
    "        print(\"!\",end=\" \")\n",
    "    print()\n",
    "print(\"------------------------------------------\")\n"
   ]
  },
  {
   "cell_type": "code",
   "execution_count": 21,
   "id": "416cbd59",
   "metadata": {},
   "outputs": [
    {
     "name": "stdout",
     "output_type": "stream",
     "text": [
      "5\n",
      "# # # # # \n",
      "# # # # \n",
      "# # # \n",
      "# # \n",
      "# \n",
      "------------------------------------------\n",
      " @ @ @ @ @ \n",
      "  @ @ @ @ \n",
      "   @ @ @ \n",
      "    @ @ \n",
      "     @ \n",
      "------------------------------------------\n",
      "        @ @ @ @ @ \n",
      "          @ @ @ @ \n",
      "            @ @ @ \n",
      "              @ @ \n",
      "                @ \n",
      "------------------------------------------\n"
     ]
    }
   ],
   "source": [
    "a=int(input())\n",
    "for i in range(a,0,-1):\n",
    "    for j in range(i,0,-1):\n",
    "        print(\"#\",end=\" \")\n",
    "    print( )\n",
    "print(\"------------------------------------------\")\n",
    "k=1\n",
    "for i in range(a,0,-1):\n",
    "    for j in range(k,0,-1):\n",
    "        print(end=\" \")\n",
    "    k=k+1\n",
    "    for l in range(i,0,-1):\n",
    "        print(\"@\",end=\" \")\n",
    "    print()\n",
    "print(\"------------------------------------------\")\n",
    "k=a*2-2\n",
    "for i in range(a,0,-1):\n",
    "    for j in range(k,0,-1):\n",
    "        print(end=\" \")\n",
    "    k=k+2\n",
    "    for l in range(i,0,-1):\n",
    "        print(\"@\",end=\" \")\n",
    "    print()\n",
    "print(\"------------------------------------------\") \n"
   ]
  },
  {
   "cell_type": "code",
   "execution_count": 22,
   "id": "c075d540",
   "metadata": {},
   "outputs": [
    {
     "name": "stdout",
     "output_type": "stream",
     "text": [
      "5\n",
      "* \n",
      "* * \n",
      "* * * \n",
      "* * * * \n",
      "* * * * * \n",
      "------------------------------------------\n",
      "* * * * * \n",
      "* * * * \n",
      "* * * \n",
      "* * \n",
      "* \n",
      "------------------------------------------\n",
      "    @ \n",
      "   @ @ \n",
      "  @ @ @ \n",
      " @ @ @ @ \n",
      "@ @ @ @ @ \n",
      "------------------------------------------\n",
      "@ @ @ @ @ \n",
      " @ @ @ @ \n",
      "  @ @ @ \n",
      "   @ @ \n",
      "    @ \n",
      "------------------------------------------\n",
      "        ! \n",
      "      ! ! \n",
      "    ! ! ! \n",
      "  ! ! ! ! \n",
      "! ! ! ! ! \n",
      "------------------------------------------\n",
      "! ! ! ! ! \n",
      "  ! ! ! ! \n",
      "    ! ! ! \n",
      "      ! ! \n",
      "        ! \n",
      "------------------------------------------\n"
     ]
    }
   ],
   "source": [
    "a=int(input())\n",
    "for i in range(1,a+1):\n",
    "    for j in range(1,i+1):\n",
    "        print(\"*\",end=\" \")\n",
    "    print()\n",
    "print(\"------------------------------------------\")\n",
    "for i in range(a,0,-1):\n",
    "    for j in range(i,0,-1):\n",
    "        print(\"*\",end=\" \")\n",
    "    print( )\n",
    "print(\"------------------------------------------\")\n",
    "k=a-1\n",
    "for i in range(1,a+1):\n",
    "    for j in range(1,k+1):\n",
    "        print(end=\" \")\n",
    "    k=k-1\n",
    "    for l in range(1,i+1):\n",
    "        print(\"@\",end=\" \")\n",
    "    print()\n",
    "print(\"------------------------------------------\")\n",
    "k=0\n",
    "for i in range(a,0,-1):\n",
    "    for j in range(k,0,-1):\n",
    "        print(end=\" \")\n",
    "    k=k+1\n",
    "    for l in range(i,0,-1):\n",
    "        print(\"@\",end=\" \")\n",
    "    print()\n",
    "print(\"------------------------------------------\")\n",
    "k=a*2-2\n",
    "for i in range(1,a+1):\n",
    "    for j in range(1,k+1):\n",
    "        print(end=\" \")\n",
    "    k=k-2\n",
    "    for l in range(1,i+1):\n",
    "        print(\"!\",end=\" \")\n",
    "    print()\n",
    "print(\"------------------------------------------\")\n",
    "k=0\n",
    "for i in range(a,0,-1):\n",
    "    for j in range(k,0,-1):\n",
    "        print(end=\" \")\n",
    "    k=k+2\n",
    "    for l in range(i,0,-1):\n",
    "        print(\"!\",end=\" \")\n",
    "    print()\n",
    "print(\"------------------------------------------\") \n",
    "\n"
   ]
  },
  {
   "cell_type": "code",
   "execution_count": 23,
   "id": "552c983f",
   "metadata": {},
   "outputs": [
    {
     "name": "stdout",
     "output_type": "stream",
     "text": [
      "        ! ! ! ! ! \n",
      "          ! ! ! ! \n",
      "            ! ! ! \n",
      "              ! ! \n",
      "                ! \n",
      "------------------------------------------\n"
     ]
    }
   ],
   "source": [
    "a=5\n",
    "k=a*2-2\n",
    "for i in range(a,0,-1):\n",
    "    for j in range(k,0,-1):\n",
    "        print(end=\" \")\n",
    "    k=k+2\n",
    "    for l in range(i,0,-1):\n",
    "        print(\"!\",end=\" \")\n",
    "    print()\n",
    "print(\"------------------------------------------\") \n"
   ]
  },
  {
   "cell_type": "code",
   "execution_count": 24,
   "id": "ae7ef3b5",
   "metadata": {},
   "outputs": [
    {
     "name": "stdout",
     "output_type": "stream",
     "text": [
      "* \n",
      "* * \n",
      "* * * \n",
      "* * * * \n",
      "* * * * * \n",
      "------------------------------------------\n",
      "* * * * * \n",
      "* * * * \n",
      "* * * \n",
      "* * \n",
      "* \n",
      "------------------------------------------\n"
     ]
    }
   ],
   "source": [
    "a=5\n",
    "for i in range(1,a+1):\n",
    "    for j in range(1,i+1):\n",
    "        print(\"*\",end=\" \")\n",
    "    print()\n",
    "print(\"------------------------------------------\")\n",
    "for i in range(a,0,-1):\n",
    "    for j in range(i,0,-1):\n",
    "        print(\"*\",end=\" \")\n",
    "    print( )\n",
    "print(\"------------------------------------------\")"
   ]
  },
  {
   "cell_type": "code",
   "execution_count": 25,
   "id": "512d44d9",
   "metadata": {},
   "outputs": [
    {
     "name": "stdout",
     "output_type": "stream",
     "text": [
      "    @ \n",
      "   @ @ \n",
      "  @ @ @ \n",
      " @ @ @ @ \n",
      "@ @ @ @ @ \n",
      "------------------------------------------\n",
      "@ @ @ @ @ \n",
      " @ @ @ @ \n",
      "  @ @ @ \n",
      "   @ @ \n",
      "    @ \n",
      "------------------------------------------\n"
     ]
    }
   ],
   "source": [
    "a=5\n",
    "k=a-1\n",
    "for i in range(1,a+1):\n",
    "    for j in range(1,k+1):\n",
    "        print(end=\" \")\n",
    "    k=k-1\n",
    "    for l in range(1,i+1):\n",
    "        print(\"@\",end=\" \")\n",
    "    print()\n",
    "print(\"------------------------------------------\")\n",
    "k=0\n",
    "for i in range(a,0,-1):\n",
    "    for j in range(k,0,-1):\n",
    "        print(end=\" \")\n",
    "    k=k+1\n",
    "    for l in range(i,0,-1):\n",
    "        print(\"@\",end=\" \")\n",
    "    print()\n",
    "print(\"------------------------------------------\")"
   ]
  },
  {
   "cell_type": "code",
   "execution_count": 26,
   "id": "4589c00e",
   "metadata": {},
   "outputs": [
    {
     "name": "stdout",
     "output_type": "stream",
     "text": [
      "    @ \n",
      "   @ @ \n",
      "  @ @ @ \n",
      " @ @ @ @ \n",
      "@ @ @ @ @ \n",
      "------------------------------------------\n",
      " @ @ @ @ @ \n",
      "  @ @ @ @ \n",
      "   @ @ @ \n",
      "    @ @ \n",
      "     @ \n",
      "------------------------------------------\n"
     ]
    }
   ],
   "source": [
    "a=5\n",
    "k=a-1\n",
    "for i in range(1,a+1):\n",
    "    for j in range(1,k+1):\n",
    "        print(end=\" \")\n",
    "    k=k-1\n",
    "    for l in range(1,i+1):\n",
    "        print(\"@\",end=\" \")\n",
    "    print()\n",
    "print(\"------------------------------------------\")\n",
    "k=1\n",
    "for i in range(a,0,-1):\n",
    "    for j in range(k,0,-1):\n",
    "        print(end=\" \")\n",
    "    k=k+1\n",
    "    for l in range(i,0,-1):\n",
    "        print(\"@\",end=\" \")\n",
    "    print()\n",
    "print(\"------------------------------------------\")"
   ]
  },
  {
   "cell_type": "code",
   "execution_count": 27,
   "id": "e4298a7d",
   "metadata": {},
   "outputs": [
    {
     "name": "stdout",
     "output_type": "stream",
     "text": [
      "    @ \n",
      "   @ @ \n",
      "  @ @ @ \n",
      " @ @ @ @ \n",
      "@ @ @ @ @ \n",
      "------------------------------------------\n",
      "  @ @ @ @ @ \n",
      "   @ @ @ @ \n",
      "    @ @ @ \n",
      "     @ @ \n",
      "      @ \n",
      "------------------------------------------\n"
     ]
    }
   ],
   "source": [
    "a=5\n",
    "k=a-1\n",
    "for i in range(1,a+1):\n",
    "    for j in range(1,k+1):\n",
    "        print(end=\" \")\n",
    "    k=k-1\n",
    "    for l in range(1,i+1):\n",
    "        print(\"@\",end=\" \")\n",
    "    print()\n",
    "print(\"------------------------------------------\")\n",
    "k=2\n",
    "for i in range(a,0,-1):\n",
    "    for j in range(k,0,-1):\n",
    "        print(end=\" \")\n",
    "    k=k+1\n",
    "    for l in range(i,0,-1):\n",
    "        print(\"@\",end=\" \")\n",
    "    print()\n",
    "print(\"------------------------------------------\")"
   ]
  },
  {
   "cell_type": "code",
   "execution_count": 28,
   "id": "a9a54556",
   "metadata": {},
   "outputs": [
    {
     "name": "stdout",
     "output_type": "stream",
     "text": [
      "    @ \n",
      "   @ @ \n",
      "  @ @ @ \n",
      " @ @ @ @ \n",
      "@ @ @ @ @ \n",
      "------------------------------------------\n",
      "         @ @ @ @ @ \n",
      "          @ @ @ @ \n",
      "           @ @ @ \n",
      "            @ @ \n",
      "             @ \n",
      "------------------------------------------\n"
     ]
    }
   ],
   "source": [
    "a=5\n",
    "k=a-1\n",
    "for i in range(1,a+1):\n",
    "    for j in range(1,k+1):\n",
    "        print(end=\" \")\n",
    "    k=k-1\n",
    "    for l in range(1,i+1):\n",
    "        print(\"@\",end=\" \")\n",
    "    print()\n",
    "print(\"------------------------------------------\")\n",
    "k=a*2-1\n",
    "for i in range(a,0,-1):\n",
    "    for j in range(k,0,-1):\n",
    "        print(end=\" \")\n",
    "    k=k+1\n",
    "    for l in range(i,0,-1):\n",
    "        print(\"@\",end=\" \")\n",
    "    print()\n",
    "print(\"------------------------------------------\")"
   ]
  },
  {
   "cell_type": "code",
   "execution_count": 29,
   "id": "ad39f0a2",
   "metadata": {},
   "outputs": [
    {
     "name": "stdout",
     "output_type": "stream",
     "text": [
      "        @ \n",
      "       @ @ \n",
      "      @ @ @ \n",
      "     @ @ @ @ \n",
      "    @ @ @ @ @ \n",
      "------------------------------------------\n",
      "         @ @ @ @ @ \n",
      "          @ @ @ @ \n",
      "           @ @ @ \n",
      "            @ @ \n",
      "             @ \n",
      "------------------------------------------\n"
     ]
    }
   ],
   "source": [
    "a=5\n",
    "k=a*2-2\n",
    "for i in range(1,a+1):\n",
    "    for j in range(1,k+1):\n",
    "        print(end=\" \")\n",
    "    k=k-1\n",
    "    for l in range(1,i+1):\n",
    "        print(\"@\",end=\" \")\n",
    "    print()\n",
    "print(\"------------------------------------------\")\n",
    "k=a*2-1\n",
    "for i in range(a,0,-1):\n",
    "    for j in range(k,0,-1):\n",
    "        print(end=\" \")\n",
    "    k=k+1\n",
    "    for l in range(i,0,-1):\n",
    "        print(\"@\",end=\" \")\n",
    "    print()\n",
    "print(\"------------------------------------------\")"
   ]
  },
  {
   "cell_type": "code",
   "execution_count": 30,
   "id": "bef89dd1",
   "metadata": {},
   "outputs": [
    {
     "name": "stdout",
     "output_type": "stream",
     "text": [
      "        ! \n",
      "      ! ! \n",
      "    ! ! ! \n",
      "  ! ! ! ! \n",
      "! ! ! ! ! \n",
      "------------------------------------------\n",
      "! ! ! ! ! \n",
      "  ! ! ! ! \n",
      "    ! ! ! \n",
      "      ! ! \n",
      "        ! \n",
      "------------------------------------------\n"
     ]
    }
   ],
   "source": [
    "a=5\n",
    "k=a*2-2\n",
    "for i in range(1,a+1):\n",
    "    for j in range(1,k+1):\n",
    "        print(end=\" \")\n",
    "    k=k-2\n",
    "    for l in range(1,i+1):\n",
    "        print(\"!\",end=\" \")\n",
    "    print()\n",
    "print(\"------------------------------------------\")\n",
    "k=0\n",
    "for i in range(a,0,-1):\n",
    "    for j in range(k,0,-1):\n",
    "        print(end=\" \")\n",
    "    k=k+2\n",
    "    for l in range(i,0,-1):\n",
    "        print(\"!\",end=\" \")\n",
    "    print()\n",
    "print(\"------------------------------------------\") \n"
   ]
  },
  {
   "cell_type": "code",
   "execution_count": 31,
   "id": "9c4279f4",
   "metadata": {},
   "outputs": [
    {
     "name": "stdout",
     "output_type": "stream",
     "text": [
      "        ! \n",
      "      ! ! \n",
      "    ! ! ! \n",
      "  ! ! ! ! \n",
      "! ! ! ! ! \n",
      "------------------------------------------\n",
      " ! ! ! ! ! \n",
      "   ! ! ! ! \n",
      "     ! ! ! \n",
      "       ! ! \n",
      "         ! \n",
      "------------------------------------------\n"
     ]
    }
   ],
   "source": [
    "a=5\n",
    "k=a*2-2\n",
    "for i in range(1,a+1):\n",
    "    for j in range(1,k+1):\n",
    "        print(end=\" \")\n",
    "    k=k-2\n",
    "    for l in range(1,i+1):\n",
    "        print(\"!\",end=\" \")\n",
    "    print()\n",
    "print(\"------------------------------------------\")\n",
    "k=1\n",
    "for i in range(a,0,-1):\n",
    "    for j in range(k,0,-1):\n",
    "        print(end=\" \")\n",
    "    k=k+2\n",
    "    for l in range(i,0,-1):\n",
    "        print(\"!\",end=\" \")\n",
    "    print()\n",
    "print(\"------------------------------------------\") \n"
   ]
  },
  {
   "cell_type": "code",
   "execution_count": 32,
   "id": "abc7edb1",
   "metadata": {},
   "outputs": [
    {
     "name": "stdout",
     "output_type": "stream",
     "text": [
      "        ! \n",
      "      ! ! \n",
      "    ! ! ! \n",
      "  ! ! ! ! \n",
      "! ! ! ! ! \n",
      "------------------------------------------\n",
      "        ! ! ! ! ! \n",
      "          ! ! ! ! \n",
      "            ! ! ! \n",
      "              ! ! \n",
      "                ! \n",
      "------------------------------------------\n"
     ]
    }
   ],
   "source": [
    "a=5\n",
    "k=a*2-2\n",
    "for i in range(1,a+1):\n",
    "    for j in range(1,k+1):\n",
    "        print(end=\" \")\n",
    "    k=k-2\n",
    "    for l in range(1,i+1):\n",
    "        print(\"!\",end=\" \")\n",
    "    print()\n",
    "print(\"------------------------------------------\")\n",
    "k=a*2-2\n",
    "for i in range(a,0,-1):\n",
    "    for j in range(k,0,-1):\n",
    "        print(end=\" \")\n",
    "    k=k+2\n",
    "    for l in range(i,0,-1):\n",
    "        print(\"!\",end=\" \")\n",
    "    print()\n",
    "print(\"------------------------------------------\") \n"
   ]
  },
  {
   "cell_type": "code",
   "execution_count": 33,
   "id": "d4e1b3b7",
   "metadata": {},
   "outputs": [
    {
     "name": "stdout",
     "output_type": "stream",
     "text": [
      "         ! \n",
      "       ! ! \n",
      "     ! ! ! \n",
      "   ! ! ! ! \n",
      " ! ! ! ! ! \n",
      "------------------------------------------\n",
      "    ! ! ! ! ! \n",
      "      ! ! ! ! \n",
      "        ! ! ! \n",
      "          ! ! \n",
      "            ! \n",
      "------------------------------------------\n"
     ]
    }
   ],
   "source": [
    "a=5\n",
    "k=a*2-1\n",
    "for i in range(1,a+1):\n",
    "    for j in range(1,k+1):\n",
    "        print(end=\" \")\n",
    "    k=k-2\n",
    "    for l in range(1,i+1):\n",
    "        print(\"!\",end=\" \")\n",
    "    print()\n",
    "print(\"------------------------------------------\")\n",
    "k=a-1\n",
    "for i in range(a,0,-1):\n",
    "    for j in range(k,0,-1):\n",
    "        print(end=\" \")\n",
    "    k=k+2\n",
    "    for l in range(i,0,-1):\n",
    "        print(\"!\",end=\" \")\n",
    "    print()\n",
    "print(\"------------------------------------------\") \n"
   ]
  },
  {
   "cell_type": "code",
   "execution_count": 34,
   "id": "cd7f47c5",
   "metadata": {},
   "outputs": [
    {
     "name": "stdout",
     "output_type": "stream",
     "text": [
      "         ! \n",
      "       ! ! \n",
      "     ! ! ! \n",
      "   ! ! ! ! \n",
      " ! ! ! ! ! \n",
      "------------------------------------------\n",
      "        ! ! ! ! ! \n",
      "       ! ! ! ! \n",
      "      ! ! ! \n",
      "     ! ! \n",
      "    ! \n",
      "------------------------------------------\n"
     ]
    }
   ],
   "source": [
    "a=5\n",
    "k=a*2-1\n",
    "for i in range(1,a+1):\n",
    "    for j in range(1,k+1):\n",
    "        print(end=\" \")\n",
    "    k=k-2\n",
    "    for l in range(1,i+1):\n",
    "        print(\"!\",end=\" \")\n",
    "    print()\n",
    "print(\"------------------------------------------\")\n",
    "k=a*2-2\n",
    "for i in range(a,0,-1):\n",
    "    for j in range(k,0,-1):\n",
    "        print(end=\" \")\n",
    "    k=k-1\n",
    "    for l in range(i,0,-1):\n",
    "        print(\"!\",end=\" \")\n",
    "    print()\n",
    "print(\"------------------------------------------\") "
   ]
  },
  {
   "cell_type": "code",
   "execution_count": 35,
   "id": "aeec8647",
   "metadata": {},
   "outputs": [
    {
     "name": "stdout",
     "output_type": "stream",
     "text": [
      "        * \r\n",
      "      * * \r\n",
      "    * * * \r\n",
      "  * * * * \r\n",
      "* * * * * \r\n",
      "  * * * * \r\n",
      "    * * * \r\n",
      "      * * \r\n",
      "        * \r\n"
     ]
    }
   ],
   "source": [
    "def pattern(n):\n",
    "    k = 2 * n - 2\n",
    "    for i in range(0, n-1):\n",
    "        for j in range(0, k):\n",
    "            print(end=\" \")\n",
    "        k = k - 2\n",
    "        for j in range(0, i + 1):\n",
    "            print(\"* \", end=\"\")\n",
    "        print(\"\\r\")\n",
    "    k = -1\n",
    "    for i in range(n-1,-1,-1):\n",
    "        for j in range(k,-1,-1):\n",
    "            print(end=\" \")\n",
    "        k = k + 2\n",
    "        for j in range(0, i + 1):\n",
    "            print(\"* \", end=\"\")\n",
    "        print(\"\\r\")\n",
    " \n",
    " \n",
    "pattern(5)"
   ]
  },
  {
   "cell_type": "code",
   "execution_count": 36,
   "id": "55e7bffd",
   "metadata": {},
   "outputs": [
    {
     "name": "stdout",
     "output_type": "stream",
     "text": [
      "5\n",
      "        1 \n",
      "      1 2 \n",
      "    1 2 3 \n",
      "  1 2 3 4 \n",
      "1 2 3 4 5 \n",
      "  1 2 3 4 \n",
      "    1 2 3 \n",
      "      1 2 \n",
      "        1 \n"
     ]
    }
   ],
   "source": [
    "a=int(input())\n",
    "k=a*2-2\n",
    "for i in range(1,a+1):\n",
    "    for j in range(1,k+1):\n",
    "        print(end=\" \")\n",
    "    k=k-2\n",
    "    for l in range(1,i+1):\n",
    "        print(l,end=\" \")\n",
    "    print()\n",
    "k=2\n",
    "for i in range(a-1,0,-1):\n",
    "    for j in range(k+1,1,-1):\n",
    "        print(end=\" \")\n",
    "    k=k+2\n",
    "    for l in range(1,i+1):\n",
    "        print(l,end=\" \")\n",
    "    print()"
   ]
  },
  {
   "cell_type": "code",
   "execution_count": 39,
   "id": "e8ce024f",
   "metadata": {},
   "outputs": [
    {
     "name": "stdout",
     "output_type": "stream",
     "text": [
      "        1 \r\n",
      "1 2 \r\n",
      "1 2 3 \r\n",
      "1 2 3 4 \r\n",
      "1 2 3 4 5 \r\n",
      "  1 2 3 4 \r\n",
      "    1 2 3 \r\n",
      "      1 2 \r\n",
      "        1 \r\n"
     ]
    }
   ],
   "source": [
    "def pattern(n):\n",
    "    k = 2 * n - 2\n",
    "    for i in range(0, n-1):\n",
    "        for j in range(0, k):\n",
    "            print(end=\" \")\n",
    "        k = k - 25\n",
    "        \n",
    "        for j in range(0, i + 1):\n",
    "            print(j+1, end=\" \")\n",
    "        print(\"\\r\")\n",
    "    k = -1\n",
    "    for i in range(n-1,-1,-1):\n",
    "        for j in range(k,-1,-1):\n",
    "            print(end=\" \")\n",
    "        k = k + 2\n",
    "        for j in range(0, i + 1):\n",
    "            print(j+1, end=\" \")\n",
    "        print(\"\\r\")\n",
    " \n",
    " \n",
    "pattern(5)"
   ]
  },
  {
   "cell_type": "code",
   "execution_count": 38,
   "id": "ed69124b",
   "metadata": {},
   "outputs": [
    {
     "name": "stdout",
     "output_type": "stream",
     "text": [
      "        1 \r\n",
      "1 2 \r\n",
      "1 2 3 \r\n",
      "1 2 3 4 \r\n",
      "1 2 3 4 5 \r\n",
      "  1 2 3 4 \r\n",
      "    1 2 3 \r\n",
      "      1 2 \r\n",
      "        1 \r\n"
     ]
    }
   ],
   "source": [
    "def pattern(n):\n",
    "    k = 2 * n - 2\n",
    "    for i in range(0, n-1):\n",
    "        for j in range(0, k):\n",
    "            print(end=\" \")\n",
    "        k = k - 25\n",
    "        \n",
    "        for j in range(0, i + 1):\n",
    "            print(j+1, end=\" \")\n",
    "        print(\"\\r\")\n",
    "    k = -1\n",
    "    for i in range(n-1,-1,-1):\n",
    "        for j in range(k,-1,-1):\n",
    "            print(end=\" \")\n",
    "        k = k + 2\n",
    "        for j in range(0, i + 1):\n",
    "            print(j+1, end=\" \")\n",
    "        print(\"\\r\")\n",
    " \n",
    " \n",
    "pattern(5)"
   ]
  },
  {
   "cell_type": "code",
   "execution_count": 40,
   "id": "3e62ca86",
   "metadata": {},
   "outputs": [
    {
     "name": "stdout",
     "output_type": "stream",
     "text": [
      "5\n",
      "     1 1\n",
      "\n",
      "    1 2 1\n",
      "\n",
      "   1 3 3 1\n",
      "\n",
      "  1 4 6 4 1\n",
      "\n",
      " 1 6 1 0 5 1\n",
      "\n"
     ]
    }
   ],
   "source": [
    "a=int(input())\n",
    "b=11\n",
    "for i in range(a):\n",
    "    d=b**(i+1)\n",
    "    c=str(d)\n",
    "    for j in range(a-i):\n",
    "        print(end=\" \")\n",
    "    print(\" \".join(c))\n",
    "    print()"
   ]
  },
  {
   "cell_type": "code",
   "execution_count": 41,
   "id": "ef0f8c38",
   "metadata": {},
   "outputs": [
    {
     "name": "stdout",
     "output_type": "stream",
     "text": [
      "Enter how many lines? 5\n",
      "    1\n",
      "   121\n",
      "  12321\n",
      " 1234321\n",
      "123454321\n"
     ]
    }
   ],
   "source": [
    "# Pattern 1-121-12321 pyramid pattern\n",
    "\n",
    "# Reading number of rows\n",
    "row = int(input('Enter how many lines? '))\n",
    "\n",
    "# Generating pattern\n",
    "for i in range(1,row+1):\n",
    "    \n",
    "    # for space\n",
    "    for j in range(1, row+1-i):\n",
    "        print(' ', end='')\n",
    "    \n",
    "    # for increasing pattern\n",
    "    for j in range(1,i+1):\n",
    "        print(j, end='')\n",
    "    \n",
    "    # for decreasing pattern \n",
    "    for j in range(i-1,0,-1):\n",
    "        print(j, end='')\n",
    "    \n",
    "    # Moving to next line\n",
    "    print()"
   ]
  },
  {
   "cell_type": "code",
   "execution_count": 42,
   "id": "fc86d6ef",
   "metadata": {},
   "outputs": [
    {
     "name": "stdout",
     "output_type": "stream",
     "text": [
      "5\n",
      "123454321\n",
      " 1234321\n",
      "  12321\n",
      "   121\n",
      "    1\n"
     ]
    }
   ],
   "source": [
    "a=int(input())\n",
    "k=0\n",
    "for i in range(a,0,-1):\n",
    "    for j in range(k,0,-1):\n",
    "        print(end=\" \")\n",
    "    k=k+1\n",
    "    for j in range(1,i+1):\n",
    "        print(j,end=\"\")\n",
    "    for j in range(i-1,0,-1):\n",
    "        print(j,end=\"\")\n",
    "    print()"
   ]
  },
  {
   "cell_type": "code",
   "execution_count": 43,
   "id": "4f371f4e",
   "metadata": {},
   "outputs": [
    {
     "name": "stdout",
     "output_type": "stream",
     "text": [
      "   * * * * * * \r\n",
      "    * * * * * \r\n",
      "     * * * * \r\n",
      "      * * * \r\n",
      "       * * \r\n",
      "        * \r\n",
      "        * \r\n",
      "       * * \r\n",
      "      * * * \r\n",
      "     * * * * \r\n",
      "    * * * * * \r\n",
      "   * * * * * * \r\n"
     ]
    }
   ],
   "source": [
    "def pattern(n):\n",
    "    k = n - 2\n",
    "    for i in range(n, -1 , -1):\n",
    "        for j in range(k , 0 , -1):\n",
    "            print(end=\" \")\n",
    "        k = k + 1    \n",
    "        for j in range(0, i+1):\n",
    "            print(\"* \" , end=\"\")\n",
    "        print(\"\\r\")\n",
    "    k = 2 * n  - 2\n",
    "    for i in range(0 , n+1):\n",
    "        for j in range(0 , k):\n",
    "            print(end=\" \")\n",
    "        k = k - 1\n",
    "        for j in range(0, i + 1):\n",
    "                print(\"* \", end=\"\")\n",
    "        print(\"\\r\")\n",
    "pattern(5)"
   ]
  },
  {
   "cell_type": "code",
   "execution_count": 44,
   "id": "3c2e91e8",
   "metadata": {},
   "outputs": [
    {
     "name": "stdout",
     "output_type": "stream",
     "text": [
      "5\n",
      "5 4 3 2 1 \n",
      " 4 3 2 1 \n",
      "  3 2 1 \n",
      "   2 1 \n",
      "    1 \n",
      "    1 \n",
      "   1 2 \n",
      "  1 2 3 \n",
      " 1 2 3 4 \n",
      "1 2 3 4 5 \n"
     ]
    }
   ],
   "source": [
    "a=int(input())\n",
    "k=0\n",
    "for i in range(a,0,-1):\n",
    "    for j in range(k,0,-1):\n",
    "        print(end=\" \")\n",
    "    k=k+1\n",
    "    for l in range(i,0,-1):\n",
    "        print(l,end=\" \")\n",
    "    print()\n",
    "k=a*2-2\n",
    "for i in range(1,a+1):\n",
    "    for j in range(k-4):\n",
    "        print(end=\" \")\n",
    "    k=k-1\n",
    "    for l in range(1,i+1):\n",
    "        print(l,end=\" \")\n",
    "    print()"
   ]
  },
  {
   "cell_type": "code",
   "execution_count": 45,
   "id": "e680c922",
   "metadata": {},
   "outputs": [
    {
     "name": "stdout",
     "output_type": "stream",
     "text": [
      "5\n",
      "* * * * * \n",
      " * * * * \n",
      "  * * * \n",
      "   * * \n",
      "    * \n",
      "    * \n",
      "   * * \n",
      "  * * * \n",
      " * * * * \n",
      "* * * * * \n"
     ]
    }
   ],
   "source": [
    "a=int(input())\n",
    "k=0\n",
    "for i in range(a,0,-1):\n",
    "    for j in range(k,0,-1):\n",
    "        print(end=\" \")\n",
    "    k=k+1\n",
    "    for l in range(i,0,-1):\n",
    "        print(\"*\",end=\" \")\n",
    "    print()\n",
    "k=a*2-2\n",
    "for i in range(1,a+1):\n",
    "    for j in range(k-4):\n",
    "        print(end=\" \")\n",
    "    k=k-1\n",
    "    for l in range(1,i+1):\n",
    "        print(\"*\",end=\" \")\n",
    "    print()"
   ]
  },
  {
   "cell_type": "code",
   "execution_count": 46,
   "id": "e8f3d247",
   "metadata": {},
   "outputs": [
    {
     "name": "stdout",
     "output_type": "stream",
     "text": [
      "5\n",
      "    5 4 3 2 1 \n",
      "     4 3 2 1 \n",
      "      3 2 1 \n",
      "       2 1 \n",
      "        1 \n",
      "        1 \n",
      "       1 2 \n",
      "      1 2 3 \n",
      "     1 2 3 4 \n",
      "    1 2 3 4 5 \n"
     ]
    }
   ],
   "source": [
    "a=int(input())\n",
    "k=4\n",
    "for i in range(a,0,-1):\n",
    "    for j in range(k,0,-1):\n",
    "        print(end=\" \")\n",
    "    k=k+1\n",
    "    for l in range(i,0,-1):\n",
    "        print(l,end=\" \")\n",
    "    print()\n",
    "k=a*2-2\n",
    "for i in range(1,a+1):\n",
    "    for j in range(k):\n",
    "        print(end=\" \")\n",
    "    k=k-1\n",
    "    for l in range(1,i+1):\n",
    "        print(l,end=\" \")\n",
    "    print()"
   ]
  },
  {
   "cell_type": "code",
   "execution_count": 47,
   "id": "3fe76d17",
   "metadata": {},
   "outputs": [
    {
     "name": "stdout",
     "output_type": "stream",
     "text": [
      "5\n",
      "    * \n",
      "   * * \n",
      "  * * * \n",
      " * * * * \n",
      "* * * * * \n",
      "* * * * * \n",
      " * * * * \n",
      "  * * * \n",
      "   * * \n",
      "    * \n"
     ]
    }
   ],
   "source": [
    "a=int(input())\n",
    "k=a-1\n",
    "for i in range(1,a+1):\n",
    "    for j in range(k):\n",
    "        print(end=\" \")\n",
    "    k=k-1\n",
    "    for l in range (1,i+1):\n",
    "        print(\"*\",end=\" \")\n",
    "    print()\n",
    "k=0\n",
    "for i in range(a,0,-1):\n",
    "    for j in range(k):\n",
    "        print(end=\" \")\n",
    "    k=k+1\n",
    "    for l in range(i,0,-1):\n",
    "        print(\"*\",end=\" \")\n",
    "    print()"
   ]
  },
  {
   "cell_type": "code",
   "execution_count": 48,
   "id": "2fded3a8",
   "metadata": {},
   "outputs": [
    {
     "name": "stdout",
     "output_type": "stream",
     "text": [
      "5\n",
      "    1 \n",
      "   2 2 \n",
      "  3 3 3 \n",
      " 4 4 4 4 \n",
      "5 5 5 5 5 \n",
      "5 5 5 5 5 \n",
      " 4 4 4 4 \n",
      "  3 3 3 \n",
      "   2 2 \n",
      "    1 \n"
     ]
    }
   ],
   "source": [
    "a=int(input())\n",
    "k=a-1\n",
    "for i in range(1,a+1):\n",
    "    for j in range(k):\n",
    "        print(end=\" \")\n",
    "    k=k-1\n",
    "    for l in range (1,i+1):\n",
    "        print(i,end=\" \")\n",
    "    print()\n",
    "k=0\n",
    "for i in range(a,0,-1):\n",
    "    for j in range(k):\n",
    "        print(end=\" \")\n",
    "    k=k+1\n",
    "    for l in range(i,0,-1):\n",
    "        print(i,end=\" \")\n",
    "    print()"
   ]
  },
  {
   "cell_type": "code",
   "execution_count": 49,
   "id": "0c859f9f",
   "metadata": {},
   "outputs": [
    {
     "name": "stdout",
     "output_type": "stream",
     "text": [
      "  *  \n",
      " * * \n",
      "*   *\n",
      " * * \n",
      "  *  \n"
     ]
    }
   ],
   "source": [
    "for i in range(5):\n",
    "    for j in range(5):\n",
    "        if i + j == 2 or i - j == 2 or i + j == 6 or j - i == 2:\n",
    "            print(\"*\", end=\"\")\n",
    "        else:\n",
    "            print(end=\" \")\n",
    "    print()"
   ]
  },
  {
   "cell_type": "code",
   "execution_count": 54,
   "id": "7c55404f",
   "metadata": {},
   "outputs": [
    {
     "name": "stdout",
     "output_type": "stream",
     "text": [
      "1  \n",
      "1  1  \n",
      "1  2  1  \n",
      "1  3  3  1  \n",
      "1  4  6  4  1  \n",
      "1  5  10  10  5  1  \n",
      "1  6  15  20  15  6  1  \n"
     ]
    }
   ],
   "source": [
    "def pascal(n):\n",
    "    for i in range(0, n):\n",
    "        for j in range(0, i + 1):\n",
    "            print(function(i, j),\" \", end=\"\")\n",
    "        print()\n",
    "def function(n, k):\n",
    "    res = 1\n",
    "    if (k & (n - k)):\n",
    "        k = n - k\n",
    "    for i in range(0, k):\n",
    "        res = res * (n - i)\n",
    "        res = res // (i + 1)\n",
    " \n",
    "    return res\n",
    " \n",
    "pascal(7)"
   ]
  },
  {
   "cell_type": "code",
   "execution_count": 56,
   "id": "e432222a",
   "metadata": {},
   "outputs": [
    {
     "name": "stdout",
     "output_type": "stream",
     "text": [
      "1  \n",
      "1  1  \n",
      "1  2  1  \n",
      "1  3  3  1  \n",
      "1  4  6  4  1  \n",
      "1  5  10  10  5  1  \n",
      "1  6  15  20  15  6  1  \n"
     ]
    }
   ],
   "source": [
    "def pascal(n):\n",
    "    for i in range(0, n):\n",
    "        for j in range(0, i + 1):\n",
    "            print(function(i, j),\" \", end=\"\")\n",
    "        print()\n",
    "def function(n, k):\n",
    "    res = 1\n",
    "    if (k):\n",
    "        k = n - k\n",
    "    for i in range(0, k):\n",
    "        res = res * (n - i)\n",
    "        res = res // (i + 1)\n",
    " \n",
    "    return res\n",
    " \n",
    "pascal(7)"
   ]
  },
  {
   "cell_type": "code",
   "execution_count": 57,
   "id": "e10699d6",
   "metadata": {},
   "outputs": [
    {
     "name": "stdout",
     "output_type": "stream",
     "text": [
      "1 \n",
      "1 2 \n",
      "1 2 3 \n",
      "1 2 3 4 \n"
     ]
    }
   ],
   "source": [
    "def pattern(n):\n",
    "     for i in range(1, n):\n",
    "        for j in range(1, i + 1):\n",
    "             print(j, end= \" \")\n",
    "        print()\n",
    "pattern(5)"
   ]
  },
  {
   "cell_type": "code",
   "execution_count": 58,
   "id": "33f0f2df",
   "metadata": {},
   "outputs": [
    {
     "name": "stdout",
     "output_type": "stream",
     "text": [
      "        x \n",
      "       x x \n",
      "      x x x \n",
      "     x x x x \n",
      "    x x x x x \n",
      "   x x x x x x \n",
      "    x x x x x \n",
      "     x x x x \n",
      "      x x x \n",
      "       x x \n",
      "        x \n"
     ]
    }
   ],
   "source": [
    "def pattern(n):\n",
    "    k = 2 * n - 2\n",
    "    x = 0\n",
    "    for i in range(0, n):\n",
    "        x += 1\n",
    "        for j in range(0, k):\n",
    "            print(end=\" \")\n",
    "        k = k - 1\n",
    "        for j in range(0, i + 1):\n",
    "            print(\"x\", end=\" \")\n",
    "        print()\n",
    "    k = n - 2\n",
    "    x = n + 2\n",
    "    for i in range(n, -1, -1):\n",
    "        x -= 1\n",
    "        for j in range(k, 0, -1):\n",
    "            print(end=\" \")\n",
    "        k = k + 1\n",
    "        for j in range(0, i + 1):\n",
    "            print(\"x\", end=\" \")\n",
    "        print()\n",
    "pattern(5)"
   ]
  },
  {
   "cell_type": "code",
   "execution_count": 59,
   "id": "c30a27c8",
   "metadata": {},
   "outputs": [
    {
     "name": "stdout",
     "output_type": "stream",
     "text": [
      "        10\n",
      "       1010\n",
      "      101010\n",
      "     10101010\n",
      "    1010101010\n"
     ]
    }
   ],
   "source": [
    "def pattern(n):\n",
    "    k = 2 * n - 2\n",
    "    for i in range(0, n):\n",
    "        for j in range(0, k):\n",
    "            print(end=\" \")\n",
    "        k = k - 1\n",
    "        for j in range(0, i + 1):\n",
    "            print('10', end=\"\")\n",
    " \n",
    "        print()\n",
    "pattern(5)"
   ]
  },
  {
   "cell_type": "code",
   "execution_count": 60,
   "id": "2dac2def",
   "metadata": {},
   "outputs": [
    {
     "name": "stdout",
     "output_type": "stream",
     "text": [
      "A \n",
      "B B \n",
      "C C C \n",
      "D D D D \n",
      "E E E E E \n"
     ]
    }
   ],
   "source": [
    "def pattern(n):\n",
    "    x = 65\n",
    "    for i in range(0, n):\n",
    "        ch = chr(x)\n",
    "        x += 1\n",
    "        for j in range(0, i + 1):\n",
    "            print(ch, end=\" \")\n",
    "        print()\n",
    "pattern(5)"
   ]
  },
  {
   "cell_type": "code",
   "execution_count": 61,
   "id": "20eb4e04",
   "metadata": {},
   "outputs": [
    {
     "name": "stdout",
     "output_type": "stream",
     "text": [
      "            A \n",
      "           B C \n",
      "          D E F \n",
      "         G H I J \n",
      "        K L M N O \n",
      "       P Q R S T U \n",
      "      V W X Y Z [ \\ \n"
     ]
    }
   ],
   "source": [
    "def pattern(n):\n",
    "    k = 2 * n - 2\n",
    "    x = 65\n",
    "    for i in range(0, n):\n",
    "        for j in range(0, k):\n",
    "            print(end=\" \")\n",
    "        k = k - 1\n",
    "        for j in range(0, i + 1):\n",
    "            ch = chr(x)\n",
    "            print(ch, end=\" \")\n",
    "            x += 1\n",
    "        print()\n",
    " \n",
    " \n",
    "pattern(7)"
   ]
  },
  {
   "cell_type": "code",
   "execution_count": 62,
   "id": "1910ceef",
   "metadata": {},
   "outputs": [
    {
     "name": "stdout",
     "output_type": "stream",
     "text": [
      "        A \n",
      "       B B \n",
      "      C C C \n",
      "     D D D D \n",
      "    E E E E E \n"
     ]
    }
   ],
   "source": [
    "def pattern(n):\n",
    "    k = 2 * n - 2\n",
    "    x = 65\n",
    "    for i in range(0, n):\n",
    "        ch = chr(x)\n",
    "        x += 1\n",
    "        for j in range(0, k):\n",
    "            print(end=\" \")\n",
    "        k = k - 1\n",
    "        for j in range(0, i + 1):\n",
    "            print(ch, end=\" \")\n",
    "        print()\n",
    " \n",
    " \n",
    "pattern(5)"
   ]
  },
  {
   "cell_type": "code",
   "execution_count": 63,
   "id": "77c8c5f7",
   "metadata": {},
   "outputs": [
    {
     "name": "stdout",
     "output_type": "stream",
     "text": [
      "        A \n",
      "       A B \n",
      "      A B C \n",
      "     A B C D \n",
      "    A B C D E \n",
      "   A B C D E F \n",
      "    G H I J K \n",
      "     L M N O \n",
      "      P Q R \n",
      "       S T \n",
      "        U \n"
     ]
    }
   ],
   "source": [
    "def pattern(n):\n",
    "    k = 2 * n - 2\n",
    "    for i in range(0, n):\n",
    "        for j in range(0, k):\n",
    "            print(end=\" \")\n",
    "        k = k - 1\n",
    "        x = 65\n",
    "        for j in range(0, i + 1):\n",
    "            ch = chr(x)\n",
    "            print(ch, end=\" \")\n",
    "            x += 1\n",
    "        print()\n",
    "    k = n - 2\n",
    "    x = 65\n",
    "    for i in range(n, -1, -1):\n",
    "        for j in range(k, 0, -1):\n",
    "            print(end=\" \")\n",
    "        k = k + 1\n",
    "        for j in range(0, i + 1):\n",
    "            ch = chr(x)\n",
    "            print(ch, end=\" \")\n",
    "            x += 1\n",
    "        print()\n",
    " \n",
    " \n",
    "pattern(5)"
   ]
  },
  {
   "cell_type": "code",
   "execution_count": 64,
   "id": "c9ac4940",
   "metadata": {},
   "outputs": [
    {
     "name": "stdout",
     "output_type": "stream",
     "text": [
      "*\n",
      "**\n",
      "***\n",
      "****\n",
      "*****\n"
     ]
    }
   ],
   "source": [
    "# Python 3.x code to demonstrate star pattern\n",
    "\n",
    "# Function to demonstrate printing pattern\n",
    "def pypart(n):\n",
    "    myList = []\n",
    "    for i in range(1,n+1):\n",
    "        myList.append(\"*\"*i)\n",
    "    print(\"\\n\".join(myList))\n",
    "\n",
    "# Driver Code\n",
    "n = 5\n",
    "pypart(n)"
   ]
  },
  {
   "cell_type": "code",
   "execution_count": 65,
   "id": "2be01f20",
   "metadata": {},
   "outputs": [
    {
     "name": "stdout",
     "output_type": "stream",
     "text": [
      "A \n",
      "B C \n",
      "D E F \n",
      "G H I J \n",
      "K L M N O \n"
     ]
    }
   ],
   "source": [
    "def contalpha(n):\n",
    "    num = 65\n",
    "    for i in range(0, n):\n",
    "        for j in range(0, i+1):\n",
    "            ch = chr(num)\n",
    "            print(ch, end=\" \")\n",
    "            num = num +1\n",
    "        print()\n",
    "contalpha(5)"
   ]
  },
  {
   "cell_type": "code",
   "execution_count": 66,
   "id": "9088c7c0",
   "metadata": {},
   "outputs": [
    {
     "name": "stdout",
     "output_type": "stream",
     "text": [
      "6\n",
      "     1 \n",
      "    2 2 \n",
      "   3 3 3 \n",
      "  4 4 4 4 \n",
      " 5 5 5 5 5 \n",
      "6 6 6 6 6 6 \n"
     ]
    }
   ],
   "source": [
    "a=int(input())\n",
    "k=a-1\n",
    "for i in range(1,a+1):\n",
    "    for j in range(k):\n",
    "        print(end=\" \")\n",
    "    k=k-1\n",
    "    for j in str(i)*i:\n",
    "        print(j,end=\" \")\n",
    "    print()"
   ]
  },
  {
   "cell_type": "code",
   "execution_count": 67,
   "id": "36752c5b",
   "metadata": {},
   "outputs": [
    {
     "name": "stdout",
     "output_type": "stream",
     "text": [
      "5\n",
      "        1 \n",
      "      2 2 \n",
      "    3 3 3 \n",
      "  4 4 4 4 \n",
      "5 5 5 5 5 \n"
     ]
    }
   ],
   "source": [
    "a=int(input())\n",
    "k=a*2-2\n",
    "for i in range(1,a+1):\n",
    "    for j in range(k):\n",
    "        print(end=\" \")\n",
    "    k=k-2\n",
    "    for j in str(i)*i:\n",
    "        print(j,end=\" \")\n",
    "    print()"
   ]
  },
  {
   "cell_type": "code",
   "execution_count": 68,
   "id": "7e0f5f78",
   "metadata": {},
   "outputs": [
    {
     "name": "stdout",
     "output_type": "stream",
     "text": [
      "5\n",
      "5 5 5 5 5 \n",
      " 4 4 4 4 \n",
      "  3 3 3 \n",
      "   2 2 \n",
      "    1 \n"
     ]
    }
   ],
   "source": [
    "a=int(input())\n",
    "k=0\n",
    "for i in range(a,0,-1):\n",
    "    for j in range(k):\n",
    "        print(end=\" \")\n",
    "    k=k+1\n",
    "    for j in str(i)*i:\n",
    "        print(j,end=\" \")\n",
    "    print()"
   ]
  },
  {
   "cell_type": "code",
   "execution_count": 69,
   "id": "73ea5be0",
   "metadata": {},
   "outputs": [
    {
     "name": "stdout",
     "output_type": "stream",
     "text": [
      "5\n",
      "5 5 5 5 5 \n",
      "  4 4 4 4 \n",
      "    3 3 3 \n",
      "      2 2 \n",
      "        1 \n"
     ]
    }
   ],
   "source": [
    "a=int(input())\n",
    "k=0\n",
    "for i in range(a,0,-1):\n",
    "    for j in range(k):\n",
    "        print(end=\" \")\n",
    "    k=k+2\n",
    "    for j in str(i)*i:\n",
    "        print(j,end=\" \")\n",
    "    print()"
   ]
  },
  {
   "cell_type": "code",
   "execution_count": 70,
   "id": "94a60f11",
   "metadata": {},
   "outputs": [
    {
     "name": "stdout",
     "output_type": "stream",
     "text": [
      "5\n",
      "        1 \n",
      "      2 2 \n",
      "    3 3 3 \n",
      "  4 4 4 4 \n",
      "5 5 5 5 5 \n",
      "5 5 5 5 5 \n",
      "  4 4 4 4 \n",
      "    3 3 3 \n",
      "      2 2 \n",
      "        1 \n"
     ]
    }
   ],
   "source": [
    "a=int(input())\n",
    "k=a*2-2\n",
    "for i in range(1,a+1):\n",
    "    for j in range(k):\n",
    "        print(end=\" \")\n",
    "    k=k-2\n",
    "    for j in str(i)*i:\n",
    "        print(j,end=\" \")\n",
    "    print()\n",
    "k=0\n",
    "for i in range(a,0,-1):\n",
    "    for j in range(k):\n",
    "        print(end=\" \")\n",
    "    k=k+2\n",
    "    for j in str(i)*i:\n",
    "        print(j,end=\" \")\n",
    "    print()"
   ]
  },
  {
   "cell_type": "code",
   "execution_count": 71,
   "id": "e59acf71",
   "metadata": {},
   "outputs": [
    {
     "name": "stdout",
     "output_type": "stream",
     "text": [
      "5\n",
      "        1 \n",
      "      2 2 \n",
      "    3 3 3 \n",
      "  4 4 4 4 \n",
      "5 5 5 5 5 \n",
      "  4 4 4 4 \n",
      "    3 3 3 \n",
      "      2 2 \n",
      "        1 \n"
     ]
    }
   ],
   "source": [
    "a=int(input())\n",
    "k=a*2-2\n",
    "for i in range(1,a+1):\n",
    "    for j in range(k):\n",
    "        print(end=\" \")\n",
    "    k=k-2\n",
    "    for j in str(i)*i:\n",
    "        print(j,end=\" \")\n",
    "    print()\n",
    "k=2\n",
    "for i in range(a-1,0,-1):\n",
    "    for j in range(k):\n",
    "        print(end=\" \")\n",
    "    k=k+2\n",
    "    for j in str(i)*i:\n",
    "        print(j,end=\" \")\n",
    "    print()"
   ]
  },
  {
   "cell_type": "code",
   "execution_count": 72,
   "id": "ac4d0087",
   "metadata": {},
   "outputs": [
    {
     "name": "stdout",
     "output_type": "stream",
     "text": [
      "5\n",
      "        1 \n",
      "      1 2 \n",
      "    1 2 3 \n",
      "  1 2 3 4 \n",
      "1 2 3 4 5 \n",
      "  1 2 3 4 \n",
      "    1 2 3 \n",
      "      1 2 \n",
      "        1 \n"
     ]
    }
   ],
   "source": [
    "a=int(input())\n",
    "k=a*2-2\n",
    "for i in range(1,a+1):\n",
    "    for j in range(k):\n",
    "        print(end=\" \")\n",
    "    k=k-2\n",
    "    for j in range(1,i+1):\n",
    "        print(j,end=\" \")\n",
    "    print()\n",
    "k=2\n",
    "for i in range(a-1,0,-1):\n",
    "    for j in range(k):\n",
    "        print(end=\" \")\n",
    "    k=k+2\n",
    "    for j in range(1,i+1):\n",
    "        print(j,end=\" \")\n",
    "    print()"
   ]
  },
  {
   "cell_type": "code",
   "execution_count": 73,
   "id": "477e04f8",
   "metadata": {},
   "outputs": [
    {
     "name": "stdout",
     "output_type": "stream",
     "text": [
      "5\n",
      "    1 \n",
      "   2 2 \n",
      "  3 3 3 \n",
      " 4 4 4 4 \n",
      "5 5 5 5 5 \n",
      "5 5 5 5 5 \n",
      " 4 4 4 4 \n",
      "  3 3 3 \n",
      "   2 2 \n",
      "    1 \n"
     ]
    }
   ],
   "source": [
    "a=int(input())\n",
    "k=a-1\n",
    "for i in range(1,a+1):\n",
    "    for j in range(k):\n",
    "        print(end=\" \")\n",
    "    k=k-1\n",
    "    for j in str(i)*i:\n",
    "        print(j,end=\" \")\n",
    "    print()\n",
    "k=0\n",
    "for i in range(a,0,-1):\n",
    "    for j in range(k):\n",
    "        print(end=\" \")\n",
    "    k=k+1\n",
    "    for j in str(i)*i:\n",
    "        print(j,end=\" \")\n",
    "    print()"
   ]
  },
  {
   "cell_type": "code",
   "execution_count": 74,
   "id": "a04b01ca",
   "metadata": {},
   "outputs": [
    {
     "name": "stdout",
     "output_type": "stream",
     "text": [
      "5\n",
      "    1 \n",
      "   2 2 \n",
      "  3 3 3 \n",
      " 4 4 4 4 \n",
      "5 5 5 5 5 \n",
      " 4 4 4 4 \n",
      "  3 3 3 \n",
      "   2 2 \n",
      "    1 \n"
     ]
    }
   ],
   "source": [
    "a=int(input())\n",
    "k=a-1\n",
    "for i in range(1,a+1):\n",
    "    for j in range(k):\n",
    "        print(end=\" \")\n",
    "    k=k-1\n",
    "    for j in str(i)*i:\n",
    "        print(j,end=\" \")\n",
    "    print()\n",
    "k=1\n",
    "for i in range(a-1,0,-1):\n",
    "    for j in range(k):\n",
    "        print(end=\" \")\n",
    "    k=k+1\n",
    "    for j in str(i)*i:\n",
    "        print(j,end=\" \")\n",
    "    print()"
   ]
  },
  {
   "cell_type": "code",
   "execution_count": 75,
   "id": "e4c1b082",
   "metadata": {},
   "outputs": [
    {
     "name": "stdout",
     "output_type": "stream",
     "text": [
      "5\n",
      "1\n",
      "22\n",
      "333\n",
      "4444\n",
      "55555\n"
     ]
    }
   ],
   "source": [
    "a=int(input())\n",
    "for i in range(1,a+1):\n",
    "    for j in range(1,i+1):\n",
    "        print(i,end=\"\")\n",
    "    print()"
   ]
  },
  {
   "cell_type": "code",
   "execution_count": 76,
   "id": "37bcb096",
   "metadata": {},
   "outputs": [
    {
     "name": "stdout",
     "output_type": "stream",
     "text": [
      "5\n",
      "55555\n",
      "4444\n",
      "333\n",
      "22\n",
      "1\n"
     ]
    }
   ],
   "source": [
    "a=int(input())\n",
    "for i in range(a,0,-1):\n",
    "    for j in range(1,i+1):\n",
    "        print(i,end=\"\")\n",
    "    print()"
   ]
  },
  {
   "cell_type": "code",
   "execution_count": 77,
   "id": "773d8586",
   "metadata": {},
   "outputs": [
    {
     "name": "stdout",
     "output_type": "stream",
     "text": [
      "5\n",
      "1\n",
      "22\n",
      "333\n",
      "4444\n",
      "55555\n",
      "55555\n",
      "4444\n",
      "333\n",
      "22\n",
      "1\n"
     ]
    }
   ],
   "source": [
    "a=int(input())\n",
    "for i in range(1,a+1):\n",
    "    for j in range(1,i+1):\n",
    "        print(i,end=\"\")\n",
    "    print()\n",
    "for i in range(a,0,-1):\n",
    "    for j in range(1,i+1):\n",
    "        print(i,end=\"\")\n",
    "    print()"
   ]
  },
  {
   "cell_type": "code",
   "execution_count": 78,
   "id": "276fb15b",
   "metadata": {},
   "outputs": [
    {
     "name": "stdout",
     "output_type": "stream",
     "text": [
      "5\n",
      "1\n",
      "22\n",
      "333\n",
      "4444\n",
      "55555\n",
      "4444\n",
      "333\n",
      "22\n",
      "1\n"
     ]
    }
   ],
   "source": [
    "a=int(input())\n",
    "for i in range(1,a+1):\n",
    "    for j in range(1,i+1):\n",
    "        print(i,end=\"\")\n",
    "    print()\n",
    "for i in range(a-1,0,-1):\n",
    "    for j in range(1,i+1):\n",
    "        print(i,end=\"\")\n",
    "    print()"
   ]
  },
  {
   "cell_type": "code",
   "execution_count": 79,
   "id": "594ef3ee",
   "metadata": {},
   "outputs": [
    {
     "name": "stdout",
     "output_type": "stream",
     "text": [
      "5\n",
      "1 \n",
      "2 2 \n",
      "3 3 3 \n",
      "4 4 4 4 \n",
      "5 5 5 5 5 \n"
     ]
    }
   ],
   "source": [
    "a=int(input())\n",
    "for i in range(1,a+1):\n",
    "    for j in range(1,i+1):\n",
    "        print(i,end=\" \")\n",
    "    print()"
   ]
  },
  {
   "cell_type": "code",
   "execution_count": 80,
   "id": "0887dcae",
   "metadata": {},
   "outputs": [
    {
     "name": "stdout",
     "output_type": "stream",
     "text": [
      "5 5 5 5 5 \n",
      "4 4 4 4 \n",
      "3 3 3 \n",
      "2 2 \n",
      "1 \n"
     ]
    }
   ],
   "source": [
    "for i in range(a,0,-1):\n",
    "    for j in range(1,i+1):\n",
    "        print(i,end=\" \")\n",
    "    print()"
   ]
  },
  {
   "cell_type": "code",
   "execution_count": 81,
   "id": "dd27ae24",
   "metadata": {},
   "outputs": [
    {
     "name": "stdout",
     "output_type": "stream",
     "text": [
      "5\n",
      "1 \n",
      "2 2 \n",
      "3 3 3 \n",
      "4 4 4 4 \n",
      "5 5 5 5 5 \n",
      "5 5 5 5 5 \n",
      "4 4 4 4 \n",
      "3 3 3 \n",
      "2 2 \n",
      "1 \n"
     ]
    }
   ],
   "source": [
    "a=int(input())\n",
    "for i in range(1,a+1):\n",
    "    for j in range(1,i+1):\n",
    "        print(i,end=\" \")\n",
    "    print()\n",
    "for i in range(a,0,-1):\n",
    "    for j in range(1,i+1):\n",
    "        print(i,end=\" \")\n",
    "    print()"
   ]
  },
  {
   "cell_type": "code",
   "execution_count": 82,
   "id": "9cb7f865",
   "metadata": {},
   "outputs": [
    {
     "name": "stdout",
     "output_type": "stream",
     "text": [
      "5\n",
      "1 \n",
      "2 2 \n",
      "3 3 3 \n",
      "4 4 4 4 \n",
      "5 5 5 5 5 \n",
      "4 4 4 4 \n",
      "3 3 3 \n",
      "2 2 \n",
      "1 \n"
     ]
    }
   ],
   "source": [
    "a=int(input())\n",
    "for i in range(1,a+1):\n",
    "    for j in range(1,i+1):\n",
    "        print(i,end=\" \")\n",
    "    print()\n",
    "for i in range(a-1,0,-1):\n",
    "    for j in range(1,i+1):\n",
    "        print(i,end=\" \")\n",
    "    print()"
   ]
  },
  {
   "cell_type": "code",
   "execution_count": 83,
   "id": "adc6c7b1",
   "metadata": {},
   "outputs": [
    {
     "name": "stdout",
     "output_type": "stream",
     "text": [
      "A\n",
      "BB\n",
      "CCC\n",
      "DDDD\n",
      "EEEEE\n"
     ]
    }
   ],
   "source": [
    "for i in range (65,70):\n",
    "    # inner loop\n",
    "    for j in range(65,i+1):\n",
    "        print(chr(i),end=\"\")\n",
    "    print()"
   ]
  },
  {
   "cell_type": "code",
   "execution_count": 84,
   "id": "0a1b3da9",
   "metadata": {},
   "outputs": [
    {
     "name": "stdout",
     "output_type": "stream",
     "text": [
      "A\n",
      "BA\n",
      "CBA\n",
      "DCBA\n",
      "EDCBA\n"
     ]
    }
   ],
   "source": [
    "for i in range(65,70):\n",
    "    # Inner loop\n",
    "    for j in range(i,64,-1):\n",
    "        print(chr(j),end=\"\")\n",
    "    print()"
   ]
  },
  {
   "cell_type": "code",
   "execution_count": 85,
   "id": "825b52ae",
   "metadata": {},
   "outputs": [
    {
     "name": "stdout",
     "output_type": "stream",
     "text": [
      "    A\n",
      "   ABA\n",
      "  ABCAB\n",
      " ABCDABC\n",
      "ABCDEABCD\n"
     ]
    }
   ],
   "source": [
    "m=6   \n",
    "# Outer loop\n",
    "for i in range(65,70):\n",
    "    m=m-1\n",
    "    # Inner loop 1 \n",
    "    for j in range(m,1,-1):\n",
    "        print(\" \",end=\"\")\n",
    "    # Inner loop 2\n",
    "    for k in range(65,i+1):\n",
    "        print(chr(k),end=\"\")\n",
    "    # Inner loop 3\n",
    "    for n in range(65,i):\n",
    "        print(chr(n),end=\"\")\n",
    "    print()"
   ]
  },
  {
   "cell_type": "code",
   "execution_count": 87,
   "id": "72a927e1",
   "metadata": {},
   "outputs": [
    {
     "name": "stdout",
     "output_type": "stream",
     "text": [
      "\n",
      "\n",
      "1 \n",
      "\n",
      "2 2 \n",
      "\n",
      "3 3 3 \n",
      "\n",
      "4 4 4 4 \n",
      "\n",
      "5 5 5 5 5 \n",
      "\n",
      "6 6 6 6 6 6 \n",
      "\n",
      "7 7 7 7 7 7 7 \n",
      "\n",
      "8 8 8 8 8 8 8 8 \n",
      "\n",
      "9 9 9 9 9 9 9 9 9 \n",
      "\n"
     ]
    }
   ],
   "source": [
    "for num in range(10):\n",
    "    for i in range(num):\n",
    "        print (num, end=\" \") #printing the number\n",
    "    print(\"\\n\")"
   ]
  },
  {
   "cell_type": "code",
   "execution_count": 88,
   "id": "8283582a",
   "metadata": {},
   "outputs": [
    {
     "name": "stdout",
     "output_type": "stream",
     "text": [
      "5\n",
      "    ! \n",
      "   ! ! \n",
      "  ! ! ! \n",
      " ! ! ! ! \n",
      "! ! ! ! ! \n",
      " ! ! ! ! \n",
      "  ! ! ! \n",
      "   ! ! \n",
      "    ! \n"
     ]
    }
   ],
   "source": [
    "a=int(input())\n",
    "k=a-1\n",
    "for i in range(1,a+1):\n",
    "    for j in range(k):\n",
    "        print(end=\" \")\n",
    "    k=k-1\n",
    "    for j in range(i):\n",
    "        print(\"!\",end=\" \")\n",
    "    print()\n",
    "k=1\n",
    "for i in range(a-1,0,-1):\n",
    "    for j in range(k):\n",
    "        print(end=\" \")\n",
    "    k=k+1\n",
    "    for j in str(i)*i:\n",
    "        print(\"!\",end=\" \")\n",
    "    print()"
   ]
  },
  {
   "cell_type": "code",
   "execution_count": 89,
   "id": "08fd1b0f",
   "metadata": {},
   "outputs": [
    {
     "name": "stdout",
     "output_type": "stream",
     "text": [
      "  ***  \n",
      " *   * \n",
      " *   * \n",
      " ***** \n",
      " *   * \n",
      " *   * \n",
      " *   * \n",
      "\n"
     ]
    }
   ],
   "source": [
    "result_str=\"\";    \n",
    "for row in range(0,7):    \n",
    "    for column in range(0,7):     \n",
    "        if (((column == 1 or column == 5) and row != 0) or ((row == 0 or row == 3) and (column > 1 and column < 5))):    \n",
    "            result_str=result_str+\"*\"    \n",
    "        else:      \n",
    "            result_str=result_str+\" \"    \n",
    "    result_str=result_str+\"\\n\"    \n",
    "print(result_str)\n"
   ]
  },
  {
   "cell_type": "code",
   "execution_count": 90,
   "id": "e63baced",
   "metadata": {},
   "outputs": [
    {
     "name": "stdout",
     "output_type": "stream",
     "text": [
      " ****  \n",
      " *   * \n",
      " *   * \n",
      " ****  \n",
      " *   * \n",
      " *   * \n",
      " ****  \n",
      "\n"
     ]
    }
   ],
   "source": [
    "str=\"\";    \n",
    "for Row in range(0,7):    \n",
    "    for Col in range(0,7):     \n",
    "        if (Col == 1 or ((Row == 0 or Row == 3 or Row == 6) and (Col < 5 and Col > 1)) or (Col == 5 and (Row != 0 and Row != 3 and Row != 6))) :  \n",
    "            #(Col == 5 and (Row != 0 and Row != 3 and Row != 6))) :\n",
    "            str=str+\"*\"    \n",
    "        else:      \n",
    "            str=str+\" \"    \n",
    "    str=str+\"\\n\"    \n",
    "print(str);"
   ]
  },
  {
   "cell_type": "code",
   "execution_count": 91,
   "id": "bc9a48d1",
   "metadata": {},
   "outputs": [
    {
     "name": "stdout",
     "output_type": "stream",
     "text": [
      "..######..\n",
      "..#....#..\n",
      "..######..\n",
      "..#....#..\n",
      "..#....#..\n",
      "\n",
      "\n"
     ]
    }
   ],
   "source": [
    "print(\"..######..\\n..#....#..\\n..######..\\n..#....#..\\n..#....#..\\n\\n\")"
   ]
  },
  {
   "cell_type": "code",
   "execution_count": 92,
   "id": "f559b395",
   "metadata": {},
   "outputs": [
    {
     "name": "stdout",
     "output_type": "stream",
     "text": [
      "..######..\n",
      "..#....#..\n",
      "..#####...\n",
      "..#....#..\n",
      "..######..\n",
      "\n",
      "\n"
     ]
    }
   ],
   "source": [
    "print(\"..######..\\n..#....#..\\n..#####...\\n..#....#..\\n..######..\\n\\n\")"
   ]
  },
  {
   "cell_type": "code",
   "execution_count": 93,
   "id": "4319d994",
   "metadata": {},
   "outputs": [
    {
     "name": "stdout",
     "output_type": "stream",
     "text": [
      "..######..\n",
      "..#.......\n",
      "..#.......\n",
      "..#.......\n",
      "..######..\n",
      "\n",
      "\n"
     ]
    }
   ],
   "source": [
    "print(\"..######..\\n..#.......\\n..#.......\\n..#.......\\n..######..\\n\\n\")"
   ]
  },
  {
   "cell_type": "code",
   "execution_count": 94,
   "id": "fae24721",
   "metadata": {},
   "outputs": [
    {
     "name": "stdout",
     "output_type": "stream",
     "text": [
      "..######..\n",
      "..#.......\n",
      "..#####...\n",
      "..#....#..\n",
      "..#####...\n",
      "\n",
      "\n"
     ]
    }
   ],
   "source": [
    "print(\"..######..\\n..#.......\\n..#####...\\n..#....#..\\n..#####...\\n\\n\")"
   ]
  },
  {
   "cell_type": "code",
   "execution_count": 95,
   "id": "19adc3eb",
   "metadata": {},
   "outputs": [
    {
     "name": "stdout",
     "output_type": "stream",
     "text": [
      "..######..\n",
      "....##....\n",
      "....##....\n",
      "....##....\n",
      "..######..\n",
      "\n",
      "\n"
     ]
    }
   ],
   "source": [
    "print(\"..######..\\n....##....\\n....##....\\n....##....\\n..######..\\n\\n\")"
   ]
  },
  {
   "cell_type": "code",
   "execution_count": 96,
   "id": "69175988",
   "metadata": {},
   "outputs": [
    {
     "name": "stdout",
     "output_type": "stream",
     "text": [
      "..######..\n",
      "....##....\n",
      "....##....\n",
      "....##....\n",
      "....##....\n",
      "\n",
      "\n"
     ]
    }
   ],
   "source": [
    " print(\"..######..\\n....##....\\n....##....\\n....##....\\n....##....\\n\\n\")"
   ]
  },
  {
   "cell_type": "code",
   "execution_count": 97,
   "id": "54b34caf",
   "metadata": {},
   "outputs": [
    {
     "name": "stdout",
     "output_type": "stream",
     "text": [
      "..#....#..\n",
      "..#....#..\n",
      "..######..\n",
      "..#....#..\n",
      "..#....#..\n",
      "\n",
      "\n"
     ]
    }
   ],
   "source": [
    " print(\"..#....#..\\n..#....#..\\n..######..\\n..#....#..\\n..#....#..\\n\\n\")"
   ]
  },
  {
   "cell_type": "code",
   "execution_count": 98,
   "id": "c4d1c02d",
   "metadata": {},
   "outputs": [
    {
     "name": "stdout",
     "output_type": "stream",
     "text": [
      "..#....#..\n",
      "..#....#..\n",
      "..#....#..\n",
      "..#....#..\n",
      "..######..\n",
      "\n",
      "\n"
     ]
    }
   ],
   "source": [
    "print(\"..#....#..\\n..#....#..\\n..#....#..\\n..#....#..\\n..######..\\n\\n\")"
   ]
  },
  {
   "cell_type": "code",
   "execution_count": 99,
   "id": "dce74958",
   "metadata": {},
   "outputs": [
    {
     "name": "stdout",
     "output_type": "stream",
     "text": [
      "..######..\n",
      "..#....#..\n",
      "..#####...\n",
      "..#....#..\n",
      "..######..\n",
      "\n",
      "\n"
     ]
    }
   ],
   "source": [
    "print(\"..######..\\n..#....#..\\n..#####...\\n..#....#..\\n..######..\\n\\n\")"
   ]
  },
  {
   "cell_type": "code",
   "execution_count": 109,
   "id": "6e05d4d9",
   "metadata": {},
   "outputs": [
    {
     "name": "stdout",
     "output_type": "stream",
     "text": [
      "..######..\n",
      "..#.......\n",
      "..#####...\n",
      "..#....#..\n",
      "..#####...\n",
      "\n",
      " ..######..\n",
      "....##....\n",
      "....##....\n",
      "....##....\n",
      "..######..\n",
      "\n",
      " ..######..\n",
      "....##....\n",
      "....##....\n",
      "....##....\n",
      "....##....\n",
      "\n",
      " ..#....#..\n",
      "..#....#..\n",
      "..######..\n",
      "..#....#..\n",
      "..#....#..\n",
      "\n",
      " ..#....#..\n",
      "..#....#..\n",
      "..#....#..\n",
      "..#....#..\n",
      "..######..\n",
      "\n",
      " ..######..\n",
      "..#....#..\n",
      "..#####...\n",
      "..#....#..\n",
      "..######..\n",
      "\n",
      " "
     ]
    }
   ],
   "source": [
    "print(\"..######..\\n..#.......\\n..#####...\\n..#....#..\\n..#####...\\n\\n\",end=\" \")\n",
    "print(\"..######..\\n....##....\\n....##....\\n....##....\\n..######..\\n\\n\",end=\" \")\n",
    "print(\"..######..\\n....##....\\n....##....\\n....##....\\n....##....\\n\\n\",end=\" \")\n",
    "print(\"..#....#..\\n..#....#..\\n..######..\\n..#....#..\\n..#....#..\\n\\n\",end=\" \")\n",
    "print(\"..#....#..\\n..#....#..\\n..#....#..\\n..#....#..\\n..######..\\n\\n\",end=\" \")\n",
    "print(\"..######..\\n..#....#..\\n..#####...\\n..#....#..\\n..######..\\n\\n\",end=\" \")"
   ]
  },
  {
   "cell_type": "code",
   "execution_count": 112,
   "id": "b21dcad0",
   "metadata": {},
   "outputs": [
    {
     "name": "stdout",
     "output_type": "stream",
     "text": [
      "*     * * * *\n",
      "*     *\n",
      "*     *\n",
      "* * * * * * * \n",
      "      *     * \n",
      "      *     * \n",
      "* * * *     * \n"
     ]
    }
   ],
   "source": [
    "row=7\n",
    "col=7\n",
    "for i in range(row):\n",
    "    for j in range(col):\n",
    "        if(i < row // 2):\n",
    "            if (j < col // 2):\n",
    "                if (j == 0):\n",
    "                    print(\"*\", end = \"\")\n",
    "                else:\n",
    "                    print(\" \", end = \" \")\n",
    "            elif (j == col // 2):\n",
    "                print(\" *\", end = \"\")\n",
    "            else:\n",
    "                if (i == 0):\n",
    "                    print(\" *\", end = \"\")\n",
    "                         \n",
    "        elif (i == row // 2):\n",
    "            print(\"* \", end = \"\")\n",
    "        else:\n",
    "            if (j == col // 2 or j == col - 1):\n",
    "                print(\"* \", end = \"\")\n",
    "            elif (i == row - 1):\n",
    "                if (j <= col // 2 or j == col - 1):\n",
    "                    print(\"* \", end = \"\")\n",
    "                else:\n",
    "                    print(\" \", end = \" \")\n",
    "            else:\n",
    "                print(\" \", end = \" \")\n",
    "    print()"
   ]
  },
  {
   "cell_type": "code",
   "execution_count": 113,
   "id": "badc5643",
   "metadata": {},
   "outputs": [
    {
     "name": "stdout",
     "output_type": "stream",
     "text": [
      "5\n",
      "A\n",
      "BB\n",
      "CCC\n",
      "DDDD\n",
      "EEEEE\n"
     ]
    }
   ],
   "source": [
    "a=int(input())\n",
    "b=ord(\"A\")\n",
    "for i in range(1,a+1):\n",
    "    print(chr(b)*i)\n",
    "    b=b+1"
   ]
  },
  {
   "cell_type": "code",
   "execution_count": 114,
   "id": "750d0af1",
   "metadata": {},
   "outputs": [
    {
     "name": "stdout",
     "output_type": "stream",
     "text": [
      "5\n",
      "1\n",
      "11\n",
      "111\n",
      "1111\n",
      "11111\n"
     ]
    }
   ],
   "source": [
    "a=int(input())\n",
    "for i in range(1,a+1):\n",
    "    s=\"\"\n",
    "    for j in range(i):\n",
    "        s+=\"1\"\n",
    "    print(s)"
   ]
  },
  {
   "cell_type": "code",
   "execution_count": 125,
   "id": "fa1cf4d4",
   "metadata": {},
   "outputs": [
    {
     "name": "stdout",
     "output_type": "stream",
     "text": [
      "5\n",
      "A\n",
      "BC\n",
      "CDE\n",
      "DEFG\n",
      "EFGHI\n"
     ]
    }
   ],
   "source": [
    "a=\"ABCDEFGHIJKLMNOPQRSTUVWXYZ\"\n",
    "b=int(input())\n",
    "for i in range(b):\n",
    "    c=\"\"\n",
    "    if(i==0):\n",
    "        print(\"A\")\n",
    "    else:\n",
    "        for j in range(i,i+i+1):\n",
    "            c+=a[j]\n",
    "        print(c)\n",
    "    "
   ]
  },
  {
   "cell_type": "code",
   "execution_count": 126,
   "id": "f326beb3",
   "metadata": {},
   "outputs": [
    {
     "name": "stdout",
     "output_type": "stream",
     "text": [
      "5\n",
      "\n",
      "E\n",
      "DE\n",
      "CDE\n",
      "BCDE\n",
      "ABCDE\n"
     ]
    }
   ],
   "source": [
    "n=int(input())\n",
    "a=65+n\n",
    "b=a\n",
    "for i in range(n+1):\n",
    "    s=\"\"\n",
    "    for j in range(a,b):\n",
    "        s+=chr(j)\n",
    "    print(s)\n",
    "    a=a-1"
   ]
  },
  {
   "cell_type": "code",
   "execution_count": 128,
   "id": "c4ce9a99",
   "metadata": {},
   "outputs": [
    {
     "name": "stdout",
     "output_type": "stream",
     "text": [
      "5\n",
      "55555\n",
      "55555\n",
      "55555\n",
      "55555\n",
      "55555\n"
     ]
    }
   ],
   "source": [
    "a1=input()\n",
    "a=int(a1)\n",
    "for i in range(a):\n",
    "    #print(a*int(\"1\"*a))\n",
    "    b=\"\"\n",
    "    for j in range(a):\n",
    "        b+=a1\n",
    "    print(b)"
   ]
  },
  {
   "cell_type": "code",
   "execution_count": 1,
   "id": "f485f74a",
   "metadata": {},
   "outputs": [
    {
     "name": "stdout",
     "output_type": "stream",
     "text": [
      "5\n",
      "1\n",
      "21\n",
      "321\n",
      "4321\n",
      "54321\n"
     ]
    }
   ],
   "source": [
    "a1=input()\n",
    "a=int(a1)\n",
    "for i in range(1,a+1):\n",
    "    c=\"\"\n",
    "    for j in range(i,0,-1):\n",
    "        c+=str(j)\n",
    "    print(c)"
   ]
  },
  {
   "cell_type": "code",
   "execution_count": 2,
   "id": "8e716547",
   "metadata": {},
   "outputs": [
    {
     "name": "stdout",
     "output_type": "stream",
     "text": [
      "5\n",
      "1\n",
      "22\n",
      "333\n",
      "4444\n",
      "55555\n"
     ]
    }
   ],
   "source": [
    "a=int(input())\n",
    "for i in range(1,a+1):\n",
    "    c=\"\"\n",
    "    for j in range(1,i+1):\n",
    "        c+=str(i)\n",
    "    print(c)"
   ]
  },
  {
   "cell_type": "code",
   "execution_count": 6,
   "id": "40659b4e",
   "metadata": {},
   "outputs": [
    {
     "name": "stdout",
     "output_type": "stream",
     "text": [
      "5\n",
      "1\n",
      "11\n",
      "202\n",
      "3003\n",
      "40004\n"
     ]
    }
   ],
   "source": [
    "a=int(input())\n",
    "print(1)\n",
    "#print(11)\n",
    "for i in range(1,a):\n",
    "    s=str(i)+\"0\"*(i-1)+str(i)\n",
    "    print(s)"
   ]
  },
  {
   "cell_type": "code",
   "execution_count": 7,
   "id": "d7b8c6be",
   "metadata": {},
   "outputs": [
    {
     "name": "stdout",
     "output_type": "stream",
     "text": [
      "5\n",
      "1\n",
      "11\n",
      "121\n",
      "1221\n",
      "12221\n",
      "122221\n"
     ]
    }
   ],
   "source": [
    "a=int(input())\n",
    "print(1)\n",
    "for i in range(1,a+1):\n",
    "    s=str(1)+str(2)*(i-1)+str(1)\n",
    "    print(s)"
   ]
  },
  {
   "cell_type": "code",
   "execution_count": 2,
   "id": "1407266d",
   "metadata": {},
   "outputs": [
    {
     "name": "stdout",
     "output_type": "stream",
     "text": [
      "5\n",
      "12345\n",
      "1234\n",
      "123\n",
      "12\n",
      "1\n"
     ]
    }
   ],
   "source": [
    "a=int(input())\n",
    "for i in range(a,0,-1):\n",
    "    s=\"\"\n",
    "    for j in range(1,i+1):\n",
    "        s+=str(j)\n",
    "    print(s)"
   ]
  },
  {
   "cell_type": "code",
   "execution_count": 3,
   "id": "961aeaf7",
   "metadata": {},
   "outputs": [
    {
     "name": "stdout",
     "output_type": "stream",
     "text": [
      "5\n",
      "A\n",
      "BB\n",
      "CCC\n",
      "DDDD\n",
      "EEEEE\n"
     ]
    }
   ],
   "source": [
    "a=int(input())\n",
    "b=ord(\"A\")\n",
    "for i in range(1,a+1):\n",
    "    print(chr(b)*i)\n",
    "    b=b+1"
   ]
  },
  {
   "cell_type": "code",
   "execution_count": 6,
   "id": "c2519a92",
   "metadata": {},
   "outputs": [
    {
     "name": "stdout",
     "output_type": "stream",
     "text": [
      "5\n",
      "55555\n",
      "4444\n",
      "333\n",
      "22\n",
      "1\n"
     ]
    }
   ],
   "source": [
    "a=int(input())\n",
    "for i in range(a,0,-1):\n",
    "    print(str(i)*i)"
   ]
  },
  {
   "cell_type": "code",
   "execution_count": 7,
   "id": "6f2c86a4",
   "metadata": {},
   "outputs": [
    {
     "name": "stdout",
     "output_type": "stream",
     "text": [
      "5\n",
      "    1\n",
      "   212\n",
      "  32123\n",
      " 4321234\n",
      "543212345\n"
     ]
    }
   ],
   "source": [
    "a=int(input())\n",
    "b=a-1\n",
    "for i in range(1,a+1):\n",
    "    for j in range(b):\n",
    "        print(\" \",end=\"\")\n",
    "    b=b-1\n",
    "    for j in range(i,0,-1):\n",
    "        print(j,end=\"\")\n",
    "    for j in range(2,i+1):\n",
    "        print(j,end=\"\")\n",
    "    print()"
   ]
  },
  {
   "cell_type": "code",
   "execution_count": 8,
   "id": "22e817e8",
   "metadata": {},
   "outputs": [
    {
     "name": "stdout",
     "output_type": "stream",
     "text": [
      "5\n",
      "     \n",
      "    1\n",
      "   12\n",
      "  123\n",
      " 1234\n",
      "12345\n"
     ]
    }
   ],
   "source": [
    "a=int(input())\n",
    "for i in range(1,a+2):\n",
    "    for j in range(a-i+1):\n",
    "        print(end=\" \")\n",
    "    for k in range(1,i):\n",
    "        print(k,end=\"\")\n",
    "    print()"
   ]
  },
  {
   "cell_type": "code",
   "execution_count": 9,
   "id": "cccc606c",
   "metadata": {},
   "outputs": [
    {
     "name": "stdout",
     "output_type": "stream",
     "text": [
      "5\n",
      "    1\n",
      "   232\n",
      "  34543\n",
      " 4567654\n",
      "567898765\n"
     ]
    }
   ],
   "source": [
    "a=int(input())\n",
    "for i in range(1,a+1):\n",
    "    n=i\n",
    "    for j in range(a-i):\n",
    "        print(\" \",end=\"\")\n",
    "    for k in range(1,i+1):\n",
    "        print(n,end=\"\")\n",
    "        n=n+1\n",
    "    n=n-2\n",
    "    for k in range(1,i):\n",
    "        print(n,end=\"\")\n",
    "        n=n-1\n",
    "    print()"
   ]
  },
  {
   "cell_type": "code",
   "execution_count": 10,
   "id": "be3a05b9",
   "metadata": {},
   "outputs": [
    {
     "name": "stdout",
     "output_type": "stream",
     "text": [
      "5\n",
      "1        1\n",
      "12      21\n",
      "123    321\n",
      "1234  4321\n",
      "1234554321\n"
     ]
    }
   ],
   "source": [
    "a=int(input())\n",
    "b=a*2-2\n",
    "for i in range(1,a+1):\n",
    "    for j in range(1,i+1):\n",
    "        print(j,end=\"\")\n",
    "    for j in range(b):\n",
    "        print(\" \",end=\"\")\n",
    "    for k in range(i,0,-1):\n",
    "        print(k,end=\"\")\n",
    "    b=b-2\n",
    "    print()"
   ]
  },
  {
   "cell_type": "code",
   "execution_count": 11,
   "id": "88ac8f27",
   "metadata": {},
   "outputs": [
    {
     "name": "stdout",
     "output_type": "stream",
     "text": [
      "5\n",
      "    1\n",
      "   212\n",
      "  32123\n",
      " 4321234\n",
      "543212345\n"
     ]
    }
   ],
   "source": [
    "a=int(input())\n",
    "b=a-1\n",
    "for i in range(1,a+1):\n",
    "    for j in range(b):\n",
    "        print(\" \",end=\"\")\n",
    "    b=b-1\n",
    "    for j in range(i,0,-1):\n",
    "        print(j,end=\"\")\n",
    "    for j in range(2,i+1):\n",
    "        print(j,end=\"\")\n",
    "    print()"
   ]
  },
  {
   "cell_type": "code",
   "execution_count": 2,
   "id": "aa3390ed",
   "metadata": {},
   "outputs": [
    {
     "name": "stdout",
     "output_type": "stream",
     "text": [
      "7\n",
      "* \n",
      " * * \n",
      "  * * * \n",
      "   * * * * \n",
      "  * * * \n",
      " * * \n",
      "* \n"
     ]
    }
   ],
   "source": [
    "a=int(input())\n",
    "b=0\n",
    "if(a%2!=0):\n",
    "    for i in range(1,(a+1)//2+1):\n",
    "        for j in range(b):\n",
    "            print(\" \",end=\"\")\n",
    "        b+=1\n",
    "        print(\"* \"*i)\n",
    "    for i in range((a+1)//2-1,0,-1):\n",
    "        for j in range(b-2):\n",
    "            print(\" \",end=\"\")\n",
    "        b-=1\n",
    "        print(\"* \"*i)"
   ]
  },
  {
   "cell_type": "code",
   "execution_count": 3,
   "id": "521921a7",
   "metadata": {},
   "outputs": [
    {
     "name": "stdout",
     "output_type": "stream",
     "text": [
      "*******\n",
      "   *   \n",
      "   *   \n",
      "   *   \n",
      "   *   \n",
      "   *   \n",
      "   *   \n",
      "   *   \n",
      "****   \n"
     ]
    }
   ],
   "source": [
    "for i in range(9):\n",
    "    for j in range(7):\n",
    "        if(j==3 or (i==0 and j!=3) or (i==8 and j<3)):\n",
    "            print(\"*\",end='')\n",
    "        else:\n",
    "            print(end=\" \")\n",
    "    print()"
   ]
  },
  {
   "cell_type": "markdown",
   "id": "3541358d",
   "metadata": {},
   "source": [
    "#  Thank You!!"
   ]
  }
 ],
 "metadata": {
  "kernelspec": {
   "display_name": "Python 3",
   "language": "python",
   "name": "python3"
  },
  "language_info": {
   "codemirror_mode": {
    "name": "ipython",
    "version": 3
   },
   "file_extension": ".py",
   "mimetype": "text/x-python",
   "name": "python",
   "nbconvert_exporter": "python",
   "pygments_lexer": "ipython3",
   "version": "3.8.8"
  }
 },
 "nbformat": 4,
 "nbformat_minor": 5
}
